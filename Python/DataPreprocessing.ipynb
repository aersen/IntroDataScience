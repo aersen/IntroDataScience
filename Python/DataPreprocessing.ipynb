{
  "nbformat": 4,
  "nbformat_minor": 0,
  "metadata": {
    "colab": {
      "name": "DataPreprocessing.ipynb",
      "provenance": [],
      "toc_visible": true,
      "authorship_tag": "ABX9TyNOVMKZA938M80elS196j2r",
      "include_colab_link": true
    },
    "kernelspec": {
      "name": "python3",
      "display_name": "Python 3"
    }
  },
  "cells": [
    {
      "cell_type": "markdown",
      "metadata": {
        "id": "view-in-github",
        "colab_type": "text"
      },
      "source": [
        "<a href=\"https://colab.research.google.com/github/happyrabbit/IntroDataScience/blob/master/Python/DataPreprocessing.ipynb\" target=\"_parent\"><img src=\"https://colab.research.google.com/assets/colab-badge.svg\" alt=\"Open In Colab\"/></a>"
      ]
    },
    {
      "cell_type": "markdown",
      "metadata": {
        "id": "bKk_xnzN0GIb"
      },
      "source": [
        "# Data Preprocessing Notebook\n",
        "\n",
        "In this notebook, we will show how to use python to preprocess the data. "
      ]
    },
    {
      "cell_type": "code",
      "metadata": {
        "id": "qSM-naA00-3u",
        "outputId": "d381cff1-ba7e-43f4-f162-96062a20be79",
        "colab": {
          "base_uri": "https://localhost:8080/",
          "height": 235
        }
      },
      "source": [
        "# Load packages\n",
        "import pandas as pd\n",
        "import numpy as np\n",
        "from sklearn.impute import SimpleImputer\n",
        "from sklearn.preprocessing import scale, power_transform\n",
        "from sklearn.feature_selection import VarianceThreshold\n",
        "from scipy import stats\n",
        "from statistics import mean\n",
        "import matplotlib.pyplot as plt\n",
        "from matplotlib.pyplot import hist\n",
        "from sklearn.impute import KNNImputer\n",
        "from mlxtend.plotting import scatterplotmatrix\n",
        "import seaborn as sns\n",
        "\n",
        "# Read data\n",
        "dat = pd.read_csv(\"http://bit.ly/2P5gTw4\")\n",
        "dat[:6]"
      ],
      "execution_count": 35,
      "outputs": [
        {
          "output_type": "execute_result",
          "data": {
            "text/html": [
              "<div>\n",
              "<style scoped>\n",
              "    .dataframe tbody tr th:only-of-type {\n",
              "        vertical-align: middle;\n",
              "    }\n",
              "\n",
              "    .dataframe tbody tr th {\n",
              "        vertical-align: top;\n",
              "    }\n",
              "\n",
              "    .dataframe thead th {\n",
              "        text-align: right;\n",
              "    }\n",
              "</style>\n",
              "<table border=\"1\" class=\"dataframe\">\n",
              "  <thead>\n",
              "    <tr style=\"text-align: right;\">\n",
              "      <th></th>\n",
              "      <th>age</th>\n",
              "      <th>gender</th>\n",
              "      <th>income</th>\n",
              "      <th>house</th>\n",
              "      <th>store_exp</th>\n",
              "      <th>online_exp</th>\n",
              "      <th>store_trans</th>\n",
              "      <th>online_trans</th>\n",
              "      <th>Q1</th>\n",
              "      <th>Q2</th>\n",
              "      <th>Q3</th>\n",
              "      <th>Q4</th>\n",
              "      <th>Q5</th>\n",
              "      <th>Q6</th>\n",
              "      <th>Q7</th>\n",
              "      <th>Q8</th>\n",
              "      <th>Q9</th>\n",
              "      <th>Q10</th>\n",
              "      <th>segment</th>\n",
              "    </tr>\n",
              "  </thead>\n",
              "  <tbody>\n",
              "    <tr>\n",
              "      <th>0</th>\n",
              "      <td>57</td>\n",
              "      <td>Female</td>\n",
              "      <td>120963.400958</td>\n",
              "      <td>Yes</td>\n",
              "      <td>529.134363</td>\n",
              "      <td>303.512475</td>\n",
              "      <td>2</td>\n",
              "      <td>2</td>\n",
              "      <td>4</td>\n",
              "      <td>2</td>\n",
              "      <td>1</td>\n",
              "      <td>2</td>\n",
              "      <td>1</td>\n",
              "      <td>4</td>\n",
              "      <td>1</td>\n",
              "      <td>4</td>\n",
              "      <td>2</td>\n",
              "      <td>4</td>\n",
              "      <td>Price</td>\n",
              "    </tr>\n",
              "    <tr>\n",
              "      <th>1</th>\n",
              "      <td>63</td>\n",
              "      <td>Female</td>\n",
              "      <td>122008.104950</td>\n",
              "      <td>Yes</td>\n",
              "      <td>478.005781</td>\n",
              "      <td>109.529710</td>\n",
              "      <td>4</td>\n",
              "      <td>2</td>\n",
              "      <td>4</td>\n",
              "      <td>1</td>\n",
              "      <td>1</td>\n",
              "      <td>2</td>\n",
              "      <td>1</td>\n",
              "      <td>4</td>\n",
              "      <td>1</td>\n",
              "      <td>4</td>\n",
              "      <td>1</td>\n",
              "      <td>4</td>\n",
              "      <td>Price</td>\n",
              "    </tr>\n",
              "    <tr>\n",
              "      <th>2</th>\n",
              "      <td>59</td>\n",
              "      <td>Male</td>\n",
              "      <td>114202.295294</td>\n",
              "      <td>Yes</td>\n",
              "      <td>490.810731</td>\n",
              "      <td>279.249582</td>\n",
              "      <td>7</td>\n",
              "      <td>2</td>\n",
              "      <td>5</td>\n",
              "      <td>2</td>\n",
              "      <td>1</td>\n",
              "      <td>2</td>\n",
              "      <td>1</td>\n",
              "      <td>4</td>\n",
              "      <td>1</td>\n",
              "      <td>4</td>\n",
              "      <td>1</td>\n",
              "      <td>4</td>\n",
              "      <td>Price</td>\n",
              "    </tr>\n",
              "    <tr>\n",
              "      <th>3</th>\n",
              "      <td>60</td>\n",
              "      <td>Male</td>\n",
              "      <td>113616.337078</td>\n",
              "      <td>Yes</td>\n",
              "      <td>347.809004</td>\n",
              "      <td>141.669752</td>\n",
              "      <td>10</td>\n",
              "      <td>2</td>\n",
              "      <td>5</td>\n",
              "      <td>2</td>\n",
              "      <td>1</td>\n",
              "      <td>3</td>\n",
              "      <td>1</td>\n",
              "      <td>4</td>\n",
              "      <td>1</td>\n",
              "      <td>4</td>\n",
              "      <td>2</td>\n",
              "      <td>4</td>\n",
              "      <td>Price</td>\n",
              "    </tr>\n",
              "    <tr>\n",
              "      <th>4</th>\n",
              "      <td>51</td>\n",
              "      <td>Male</td>\n",
              "      <td>124252.552787</td>\n",
              "      <td>Yes</td>\n",
              "      <td>379.625940</td>\n",
              "      <td>112.237177</td>\n",
              "      <td>4</td>\n",
              "      <td>4</td>\n",
              "      <td>4</td>\n",
              "      <td>1</td>\n",
              "      <td>1</td>\n",
              "      <td>3</td>\n",
              "      <td>1</td>\n",
              "      <td>4</td>\n",
              "      <td>1</td>\n",
              "      <td>4</td>\n",
              "      <td>2</td>\n",
              "      <td>4</td>\n",
              "      <td>Price</td>\n",
              "    </tr>\n",
              "    <tr>\n",
              "      <th>5</th>\n",
              "      <td>59</td>\n",
              "      <td>Male</td>\n",
              "      <td>107661.456130</td>\n",
              "      <td>Yes</td>\n",
              "      <td>338.315403</td>\n",
              "      <td>195.687013</td>\n",
              "      <td>4</td>\n",
              "      <td>5</td>\n",
              "      <td>4</td>\n",
              "      <td>2</td>\n",
              "      <td>1</td>\n",
              "      <td>2</td>\n",
              "      <td>1</td>\n",
              "      <td>4</td>\n",
              "      <td>1</td>\n",
              "      <td>4</td>\n",
              "      <td>1</td>\n",
              "      <td>4</td>\n",
              "      <td>Price</td>\n",
              "    </tr>\n",
              "  </tbody>\n",
              "</table>\n",
              "</div>"
            ],
            "text/plain": [
              "   age  gender         income house   store_exp  ...  Q7  Q8  Q9  Q10  segment\n",
              "0   57  Female  120963.400958   Yes  529.134363  ...   1   4   2    4    Price\n",
              "1   63  Female  122008.104950   Yes  478.005781  ...   1   4   1    4    Price\n",
              "2   59    Male  114202.295294   Yes  490.810731  ...   1   4   1    4    Price\n",
              "3   60    Male  113616.337078   Yes  347.809004  ...   1   4   2    4    Price\n",
              "4   51    Male  124252.552787   Yes  379.625940  ...   1   4   2    4    Price\n",
              "5   59    Male  107661.456130   Yes  338.315403  ...   1   4   1    4    Price\n",
              "\n",
              "[6 rows x 19 columns]"
            ]
          },
          "metadata": {
            "tags": []
          },
          "execution_count": 35
        }
      ]
    },
    {
      "cell_type": "markdown",
      "metadata": {
        "id": "DyG-1ajT00pZ"
      },
      "source": [
        "# 01 Data Cleaning\n",
        "\n",
        "After you load the data, the first thing is to check how many variables are there, the type of variables, the distributions, and data errors. You can get descriptive statistics of the data using `describe()` function:"
      ]
    },
    {
      "cell_type": "code",
      "metadata": {
        "id": "UpZ_WlAsReua",
        "outputId": "88931058-2ee4-4046-c6d3-366d9a150e5d",
        "colab": {
          "base_uri": "https://localhost:8080/",
          "height": 317
        }
      },
      "source": [
        "dat.describe()"
      ],
      "execution_count": 86,
      "outputs": [
        {
          "output_type": "execute_result",
          "data": {
            "text/html": [
              "<div>\n",
              "<style scoped>\n",
              "    .dataframe tbody tr th:only-of-type {\n",
              "        vertical-align: middle;\n",
              "    }\n",
              "\n",
              "    .dataframe tbody tr th {\n",
              "        vertical-align: top;\n",
              "    }\n",
              "\n",
              "    .dataframe thead th {\n",
              "        text-align: right;\n",
              "    }\n",
              "</style>\n",
              "<table border=\"1\" class=\"dataframe\">\n",
              "  <thead>\n",
              "    <tr style=\"text-align: right;\">\n",
              "      <th></th>\n",
              "      <th>age</th>\n",
              "      <th>income</th>\n",
              "      <th>store_exp</th>\n",
              "      <th>online_exp</th>\n",
              "      <th>store_trans</th>\n",
              "      <th>online_trans</th>\n",
              "      <th>Q1</th>\n",
              "      <th>Q2</th>\n",
              "      <th>Q3</th>\n",
              "      <th>Q4</th>\n",
              "      <th>Q5</th>\n",
              "      <th>Q6</th>\n",
              "      <th>Q7</th>\n",
              "      <th>Q8</th>\n",
              "      <th>Q9</th>\n",
              "      <th>Q10</th>\n",
              "    </tr>\n",
              "  </thead>\n",
              "  <tbody>\n",
              "    <tr>\n",
              "      <th>count</th>\n",
              "      <td>1000.000000</td>\n",
              "      <td>816.000000</td>\n",
              "      <td>1000.000000</td>\n",
              "      <td>1000.000000</td>\n",
              "      <td>1000.000000</td>\n",
              "      <td>1000.000000</td>\n",
              "      <td>1000.000000</td>\n",
              "      <td>1000.000000</td>\n",
              "      <td>1000.000000</td>\n",
              "      <td>1000.000000</td>\n",
              "      <td>1000.000000</td>\n",
              "      <td>1000.000000</td>\n",
              "      <td>1000.000000</td>\n",
              "      <td>1000.000000</td>\n",
              "      <td>1000.000000</td>\n",
              "      <td>1000.000000</td>\n",
              "    </tr>\n",
              "    <tr>\n",
              "      <th>mean</th>\n",
              "      <td>38.840000</td>\n",
              "      <td>113543.065222</td>\n",
              "      <td>1356.850523</td>\n",
              "      <td>2120.181187</td>\n",
              "      <td>5.350000</td>\n",
              "      <td>13.546000</td>\n",
              "      <td>3.101000</td>\n",
              "      <td>1.823000</td>\n",
              "      <td>1.992000</td>\n",
              "      <td>2.763000</td>\n",
              "      <td>2.945000</td>\n",
              "      <td>2.448000</td>\n",
              "      <td>3.434000</td>\n",
              "      <td>2.396000</td>\n",
              "      <td>3.085000</td>\n",
              "      <td>2.320000</td>\n",
              "    </tr>\n",
              "    <tr>\n",
              "      <th>std</th>\n",
              "      <td>16.416818</td>\n",
              "      <td>49842.287197</td>\n",
              "      <td>2774.399785</td>\n",
              "      <td>1731.224308</td>\n",
              "      <td>3.695559</td>\n",
              "      <td>7.956959</td>\n",
              "      <td>1.450139</td>\n",
              "      <td>1.168348</td>\n",
              "      <td>1.402106</td>\n",
              "      <td>1.155061</td>\n",
              "      <td>1.284377</td>\n",
              "      <td>1.438529</td>\n",
              "      <td>1.455941</td>\n",
              "      <td>1.154347</td>\n",
              "      <td>1.118493</td>\n",
              "      <td>1.136174</td>\n",
              "    </tr>\n",
              "    <tr>\n",
              "      <th>min</th>\n",
              "      <td>16.000000</td>\n",
              "      <td>41775.637023</td>\n",
              "      <td>-500.000000</td>\n",
              "      <td>68.817228</td>\n",
              "      <td>1.000000</td>\n",
              "      <td>1.000000</td>\n",
              "      <td>1.000000</td>\n",
              "      <td>1.000000</td>\n",
              "      <td>1.000000</td>\n",
              "      <td>1.000000</td>\n",
              "      <td>1.000000</td>\n",
              "      <td>1.000000</td>\n",
              "      <td>1.000000</td>\n",
              "      <td>1.000000</td>\n",
              "      <td>1.000000</td>\n",
              "      <td>1.000000</td>\n",
              "    </tr>\n",
              "    <tr>\n",
              "      <th>25%</th>\n",
              "      <td>25.000000</td>\n",
              "      <td>85832.393634</td>\n",
              "      <td>204.976456</td>\n",
              "      <td>420.341127</td>\n",
              "      <td>3.000000</td>\n",
              "      <td>6.000000</td>\n",
              "      <td>2.000000</td>\n",
              "      <td>1.000000</td>\n",
              "      <td>1.000000</td>\n",
              "      <td>2.000000</td>\n",
              "      <td>1.750000</td>\n",
              "      <td>1.000000</td>\n",
              "      <td>2.500000</td>\n",
              "      <td>1.000000</td>\n",
              "      <td>2.000000</td>\n",
              "      <td>1.000000</td>\n",
              "    </tr>\n",
              "    <tr>\n",
              "      <th>50%</th>\n",
              "      <td>36.000000</td>\n",
              "      <td>93868.682835</td>\n",
              "      <td>328.980863</td>\n",
              "      <td>1941.855436</td>\n",
              "      <td>4.000000</td>\n",
              "      <td>14.000000</td>\n",
              "      <td>3.000000</td>\n",
              "      <td>1.000000</td>\n",
              "      <td>1.000000</td>\n",
              "      <td>3.000000</td>\n",
              "      <td>4.000000</td>\n",
              "      <td>2.000000</td>\n",
              "      <td>4.000000</td>\n",
              "      <td>2.000000</td>\n",
              "      <td>4.000000</td>\n",
              "      <td>2.000000</td>\n",
              "    </tr>\n",
              "    <tr>\n",
              "      <th>75%</th>\n",
              "      <td>53.000000</td>\n",
              "      <td>124572.400926</td>\n",
              "      <td>597.293077</td>\n",
              "      <td>2440.774823</td>\n",
              "      <td>7.000000</td>\n",
              "      <td>20.000000</td>\n",
              "      <td>4.000000</td>\n",
              "      <td>2.000000</td>\n",
              "      <td>3.000000</td>\n",
              "      <td>4.000000</td>\n",
              "      <td>4.000000</td>\n",
              "      <td>4.000000</td>\n",
              "      <td>4.000000</td>\n",
              "      <td>3.000000</td>\n",
              "      <td>4.000000</td>\n",
              "      <td>3.000000</td>\n",
              "    </tr>\n",
              "    <tr>\n",
              "      <th>max</th>\n",
              "      <td>300.000000</td>\n",
              "      <td>319704.337941</td>\n",
              "      <td>50000.000000</td>\n",
              "      <td>9479.442310</td>\n",
              "      <td>20.000000</td>\n",
              "      <td>36.000000</td>\n",
              "      <td>5.000000</td>\n",
              "      <td>5.000000</td>\n",
              "      <td>5.000000</td>\n",
              "      <td>5.000000</td>\n",
              "      <td>5.000000</td>\n",
              "      <td>5.000000</td>\n",
              "      <td>5.000000</td>\n",
              "      <td>5.000000</td>\n",
              "      <td>5.000000</td>\n",
              "      <td>5.000000</td>\n",
              "    </tr>\n",
              "  </tbody>\n",
              "</table>\n",
              "</div>"
            ],
            "text/plain": [
              "               age         income  ...           Q9          Q10\n",
              "count  1000.000000     816.000000  ...  1000.000000  1000.000000\n",
              "mean     38.840000  113543.065222  ...     3.085000     2.320000\n",
              "std      16.416818   49842.287197  ...     1.118493     1.136174\n",
              "min      16.000000   41775.637023  ...     1.000000     1.000000\n",
              "25%      25.000000   85832.393634  ...     2.000000     1.000000\n",
              "50%      36.000000   93868.682835  ...     4.000000     2.000000\n",
              "75%      53.000000  124572.400926  ...     4.000000     3.000000\n",
              "max     300.000000  319704.337941  ...     5.000000     5.000000\n",
              "\n",
              "[8 rows x 16 columns]"
            ]
          },
          "metadata": {
            "tags": []
          },
          "execution_count": 86
        }
      ]
    },
    {
      "cell_type": "markdown",
      "metadata": {
        "id": "nrsOcjPk2aeq"
      },
      "source": [
        "You can check missing value and column type quickly using `info()`:"
      ]
    },
    {
      "cell_type": "code",
      "metadata": {
        "id": "08oAgij1S-Bu",
        "outputId": "7f4a482d-1415-45bd-a690-1113c88ff20d",
        "colab": {
          "base_uri": "https://localhost:8080/",
          "height": 459
        }
      },
      "source": [
        "dat.info()"
      ],
      "execution_count": 88,
      "outputs": [
        {
          "output_type": "stream",
          "text": [
            "<class 'pandas.core.frame.DataFrame'>\n",
            "RangeIndex: 1000 entries, 0 to 999\n",
            "Data columns (total 19 columns):\n",
            " #   Column        Non-Null Count  Dtype  \n",
            "---  ------        --------------  -----  \n",
            " 0   age           1000 non-null   int64  \n",
            " 1   gender        1000 non-null   object \n",
            " 2   income        816 non-null    float64\n",
            " 3   house         1000 non-null   object \n",
            " 4   store_exp     1000 non-null   float64\n",
            " 5   online_exp    1000 non-null   float64\n",
            " 6   store_trans   1000 non-null   int64  \n",
            " 7   online_trans  1000 non-null   int64  \n",
            " 8   Q1            1000 non-null   int64  \n",
            " 9   Q2            1000 non-null   int64  \n",
            " 10  Q3            1000 non-null   int64  \n",
            " 11  Q4            1000 non-null   int64  \n",
            " 12  Q5            1000 non-null   int64  \n",
            " 13  Q6            1000 non-null   int64  \n",
            " 14  Q7            1000 non-null   int64  \n",
            " 15  Q8            1000 non-null   int64  \n",
            " 16  Q9            1000 non-null   int64  \n",
            " 17  Q10           1000 non-null   int64  \n",
            " 18  segment       1000 non-null   object \n",
            "dtypes: float64(3), int64(13), object(3)\n",
            "memory usage: 148.6+ KB\n"
          ],
          "name": "stdout"
        }
      ]
    },
    {
      "cell_type": "markdown",
      "metadata": {
        "id": "V_yuZ8Cy2jv-"
      },
      "source": [
        "Are there any problems? Questionnaire response Q1-Q10 seem reasonable, the minimum is 1 and maximum is 5. Recall that the questionnaire score is 1-5. The number of store transactions (`store_trans`) and online transactions (`online_trans`) make sense too. Things to pay attention are:\n",
        "\n",
        "1. There are some missing values.\n",
        "2. There are outliers for store expenses (store_exp). The maximum value is 50000. Who would spend $50000 a year buying clothes?! \n",
        "3. There is a negative value ( -500) in store_exp which is not logical.\n",
        "Someone is 300 years old.\n",
        "4. How to deal with that? Depending on the real situation, if the sample size is large enough, it does not hurt to delete those problematic samples. Here we have 1000 observations. Since marketing survey is usually expensive, it is better to set these values as missing and impute them instead of deleting the rows."
      ]
    },
    {
      "cell_type": "code",
      "metadata": {
        "id": "5XiCErAyS-0i",
        "outputId": "2e55c000-d6ca-44a6-f5c2-60caf879ba59",
        "colab": {
          "base_uri": "https://localhost:8080/",
          "height": 187
        }
      },
      "source": [
        "# set problematic values as missings\n",
        "dat.loc[dat.age > 100, 'age'] = np.nan\n",
        "dat.loc[dat.store_exp < 0, 'store_exp'] = np.nan\n",
        "dat.loc[dat.income.isnull(), 'income'] = np.nan\n",
        "# see the results\n",
        "# some of the values are set as NA\n",
        "dat[['income','age', 'store_exp']].info()"
      ],
      "execution_count": 89,
      "outputs": [
        {
          "output_type": "stream",
          "text": [
            "<class 'pandas.core.frame.DataFrame'>\n",
            "RangeIndex: 1000 entries, 0 to 999\n",
            "Data columns (total 3 columns):\n",
            " #   Column     Non-Null Count  Dtype  \n",
            "---  ------     --------------  -----  \n",
            " 0   income     816 non-null    float64\n",
            " 1   age        999 non-null    float64\n",
            " 2   store_exp  999 non-null    float64\n",
            "dtypes: float64(3)\n",
            "memory usage: 23.6 KB\n"
          ],
          "name": "stdout"
        }
      ]
    },
    {
      "cell_type": "markdown",
      "metadata": {
        "id": "yFT-oAQ35zil"
      },
      "source": [
        "# 02-Missing Value"
      ]
    },
    {
      "cell_type": "markdown",
      "metadata": {
        "id": "uFFEPPgYmNvZ"
      },
      "source": [
        "## 02.1-Impute missing values with `median`, `mode`, `mean`, or `constant`\n",
        "\n",
        "You can set the imputation strategy using `strategy` argument.\n",
        "\n",
        "- If “`mean`”, then replace missing values using the mean along each column. Can only be used with numeric data.\n",
        "- If “`median`”, then replace missing values using the median along each column. Can only be used with numeric data.\n",
        "- If “`most_frequent`”, then replace missing using the most frequent value along each column. Can be used with strings or numeric data.\n",
        "- If “`constant`”, then replace missing values with fill_value. Can be used with strings or numeric data.\n"
      ]
    },
    {
      "cell_type": "code",
      "metadata": {
        "id": "LrKNnHghdJnD"
      },
      "source": [
        "impdat = dat[['income','age','store_exp']]\n",
        "imp_mean = SimpleImputer(strategy=\"mean\")\n",
        "imp_mean.fit(impdat)\n",
        "impdat = imp_mean.transform(impdat)"
      ],
      "execution_count": 90,
      "outputs": []
    },
    {
      "cell_type": "code",
      "metadata": {
        "id": "2HGrp543lZub",
        "outputId": "0ec86300-6f13-44fd-8416-213e3267ce8b",
        "colab": {
          "base_uri": "https://localhost:8080/",
          "height": 204
        }
      },
      "source": [
        "impdat = pd.DataFrame(data=impdat, columns=[\"income\", \"age\",'store_exp'])\n",
        "impdat.head()"
      ],
      "execution_count": 91,
      "outputs": [
        {
          "output_type": "execute_result",
          "data": {
            "text/html": [
              "<div>\n",
              "<style scoped>\n",
              "    .dataframe tbody tr th:only-of-type {\n",
              "        vertical-align: middle;\n",
              "    }\n",
              "\n",
              "    .dataframe tbody tr th {\n",
              "        vertical-align: top;\n",
              "    }\n",
              "\n",
              "    .dataframe thead th {\n",
              "        text-align: right;\n",
              "    }\n",
              "</style>\n",
              "<table border=\"1\" class=\"dataframe\">\n",
              "  <thead>\n",
              "    <tr style=\"text-align: right;\">\n",
              "      <th></th>\n",
              "      <th>income</th>\n",
              "      <th>age</th>\n",
              "      <th>store_exp</th>\n",
              "    </tr>\n",
              "  </thead>\n",
              "  <tbody>\n",
              "    <tr>\n",
              "      <th>0</th>\n",
              "      <td>120963.400958</td>\n",
              "      <td>57.0</td>\n",
              "      <td>529.134363</td>\n",
              "    </tr>\n",
              "    <tr>\n",
              "      <th>1</th>\n",
              "      <td>122008.104950</td>\n",
              "      <td>63.0</td>\n",
              "      <td>478.005781</td>\n",
              "    </tr>\n",
              "    <tr>\n",
              "      <th>2</th>\n",
              "      <td>114202.295294</td>\n",
              "      <td>59.0</td>\n",
              "      <td>490.810731</td>\n",
              "    </tr>\n",
              "    <tr>\n",
              "      <th>3</th>\n",
              "      <td>113616.337078</td>\n",
              "      <td>60.0</td>\n",
              "      <td>347.809004</td>\n",
              "    </tr>\n",
              "    <tr>\n",
              "      <th>4</th>\n",
              "      <td>124252.552787</td>\n",
              "      <td>51.0</td>\n",
              "      <td>379.625940</td>\n",
              "    </tr>\n",
              "  </tbody>\n",
              "</table>\n",
              "</div>"
            ],
            "text/plain": [
              "          income   age   store_exp\n",
              "0  120963.400958  57.0  529.134363\n",
              "1  122008.104950  63.0  478.005781\n",
              "2  114202.295294  59.0  490.810731\n",
              "3  113616.337078  60.0  347.809004\n",
              "4  124252.552787  51.0  379.625940"
            ]
          },
          "metadata": {
            "tags": []
          },
          "execution_count": 91
        }
      ]
    },
    {
      "cell_type": "markdown",
      "metadata": {
        "id": "O8Maaar6ls1f"
      },
      "source": [
        "Let us replace the columns in `dat` with the imputed columns."
      ]
    },
    {
      "cell_type": "code",
      "metadata": {
        "id": "-GkEeDiKdFSa",
        "outputId": "38d9af33-e12e-4a38-8d92-dd2dba15936d",
        "colab": {
          "base_uri": "https://localhost:8080/",
          "height": 459
        }
      },
      "source": [
        "# replace the columns in `dat` with the imputed columns\n",
        "dat2 = dat.drop(columns = ['income','age','store_exp'])\n",
        "dat_imputed = pd.concat([dat2.reset_index(drop=True), impdat] , axis=1)\n",
        "dat_imputed.info()"
      ],
      "execution_count": 84,
      "outputs": [
        {
          "output_type": "stream",
          "text": [
            "<class 'pandas.core.frame.DataFrame'>\n",
            "RangeIndex: 1000 entries, 0 to 999\n",
            "Data columns (total 19 columns):\n",
            " #   Column        Non-Null Count  Dtype  \n",
            "---  ------        --------------  -----  \n",
            " 0   gender        1000 non-null   object \n",
            " 1   house         1000 non-null   object \n",
            " 2   online_exp    1000 non-null   float64\n",
            " 3   store_trans   1000 non-null   int64  \n",
            " 4   online_trans  1000 non-null   int64  \n",
            " 5   Q1            1000 non-null   int64  \n",
            " 6   Q2            1000 non-null   int64  \n",
            " 7   Q3            1000 non-null   int64  \n",
            " 8   Q4            1000 non-null   int64  \n",
            " 9   Q5            1000 non-null   int64  \n",
            " 10  Q6            1000 non-null   int64  \n",
            " 11  Q7            1000 non-null   int64  \n",
            " 12  Q8            1000 non-null   int64  \n",
            " 13  Q9            1000 non-null   int64  \n",
            " 14  Q10           1000 non-null   int64  \n",
            " 15  segment       1000 non-null   object \n",
            " 16  income        1000 non-null   float64\n",
            " 17  age           1000 non-null   float64\n",
            " 18  store_exp     1000 non-null   float64\n",
            "dtypes: float64(4), int64(12), object(3)\n",
            "memory usage: 148.6+ KB\n"
          ],
          "name": "stdout"
        }
      ]
    },
    {
      "cell_type": "markdown",
      "metadata": {
        "id": "O3aN5h-VmPdA"
      },
      "source": [
        "## 02.2-K-nearest neighbors"
      ]
    },
    {
      "cell_type": "code",
      "metadata": {
        "id": "u74TKXosSCbF",
        "outputId": "fda86125-66a7-49ce-c69d-393d10370f4c",
        "colab": {
          "base_uri": "https://localhost:8080/",
          "height": 204
        }
      },
      "source": [
        "impdat = dat[['income','age','store_exp']]\n",
        "imp_knn = KNNImputer(n_neighbors=2, weights=\"uniform\")\n",
        "impdat = imp_knn.fit_transform(impdat)\n",
        "impdat = pd.DataFrame(data=impdat, columns=[\"income\", \"age\",'store_exp'])\n",
        "impdat.head()"
      ],
      "execution_count": 2,
      "outputs": [
        {
          "output_type": "execute_result",
          "data": {
            "text/html": [
              "<div>\n",
              "<style scoped>\n",
              "    .dataframe tbody tr th:only-of-type {\n",
              "        vertical-align: middle;\n",
              "    }\n",
              "\n",
              "    .dataframe tbody tr th {\n",
              "        vertical-align: top;\n",
              "    }\n",
              "\n",
              "    .dataframe thead th {\n",
              "        text-align: right;\n",
              "    }\n",
              "</style>\n",
              "<table border=\"1\" class=\"dataframe\">\n",
              "  <thead>\n",
              "    <tr style=\"text-align: right;\">\n",
              "      <th></th>\n",
              "      <th>income</th>\n",
              "      <th>age</th>\n",
              "      <th>store_exp</th>\n",
              "    </tr>\n",
              "  </thead>\n",
              "  <tbody>\n",
              "    <tr>\n",
              "      <th>0</th>\n",
              "      <td>120963.400958</td>\n",
              "      <td>57.0</td>\n",
              "      <td>529.134363</td>\n",
              "    </tr>\n",
              "    <tr>\n",
              "      <th>1</th>\n",
              "      <td>122008.104950</td>\n",
              "      <td>63.0</td>\n",
              "      <td>478.005781</td>\n",
              "    </tr>\n",
              "    <tr>\n",
              "      <th>2</th>\n",
              "      <td>114202.295294</td>\n",
              "      <td>59.0</td>\n",
              "      <td>490.810731</td>\n",
              "    </tr>\n",
              "    <tr>\n",
              "      <th>3</th>\n",
              "      <td>113616.337078</td>\n",
              "      <td>60.0</td>\n",
              "      <td>347.809004</td>\n",
              "    </tr>\n",
              "    <tr>\n",
              "      <th>4</th>\n",
              "      <td>124252.552787</td>\n",
              "      <td>51.0</td>\n",
              "      <td>379.625940</td>\n",
              "    </tr>\n",
              "  </tbody>\n",
              "</table>\n",
              "</div>"
            ],
            "text/plain": [
              "          income   age   store_exp\n",
              "0  120963.400958  57.0  529.134363\n",
              "1  122008.104950  63.0  478.005781\n",
              "2  114202.295294  59.0  490.810731\n",
              "3  113616.337078  60.0  347.809004\n",
              "4  124252.552787  51.0  379.625940"
            ]
          },
          "metadata": {
            "tags": []
          },
          "execution_count": 2
        }
      ]
    },
    {
      "cell_type": "code",
      "metadata": {
        "id": "AhQnjbDanLc9",
        "outputId": "6635a62a-11c3-4721-d70d-5f81998ad817",
        "colab": {
          "base_uri": "https://localhost:8080/",
          "height": 459
        }
      },
      "source": [
        "# replace the columns in `dat` with the imputed columns\n",
        "dat2 = dat.drop(columns = ['income','age','store_exp'])\n",
        "dat_imputed = pd.concat([dat2.reset_index(drop=True), impdat] , axis=1)\n",
        "dat_imputed.info()"
      ],
      "execution_count": 3,
      "outputs": [
        {
          "output_type": "stream",
          "text": [
            "<class 'pandas.core.frame.DataFrame'>\n",
            "RangeIndex: 1000 entries, 0 to 999\n",
            "Data columns (total 19 columns):\n",
            " #   Column        Non-Null Count  Dtype  \n",
            "---  ------        --------------  -----  \n",
            " 0   gender        1000 non-null   object \n",
            " 1   house         1000 non-null   object \n",
            " 2   online_exp    1000 non-null   float64\n",
            " 3   store_trans   1000 non-null   int64  \n",
            " 4   online_trans  1000 non-null   int64  \n",
            " 5   Q1            1000 non-null   int64  \n",
            " 6   Q2            1000 non-null   int64  \n",
            " 7   Q3            1000 non-null   int64  \n",
            " 8   Q4            1000 non-null   int64  \n",
            " 9   Q5            1000 non-null   int64  \n",
            " 10  Q6            1000 non-null   int64  \n",
            " 11  Q7            1000 non-null   int64  \n",
            " 12  Q8            1000 non-null   int64  \n",
            " 13  Q9            1000 non-null   int64  \n",
            " 14  Q10           1000 non-null   int64  \n",
            " 15  segment       1000 non-null   object \n",
            " 16  income        1000 non-null   float64\n",
            " 17  age           1000 non-null   float64\n",
            " 18  store_exp     1000 non-null   float64\n",
            "dtypes: float64(4), int64(12), object(3)\n",
            "memory usage: 148.6+ KB\n"
          ],
          "name": "stdout"
        }
      ]
    },
    {
      "cell_type": "markdown",
      "metadata": {
        "id": "6IeSdF3S2FTp"
      },
      "source": [
        "# 03-Centering and Scaling\n",
        "\n",
        "Let’s standardize variables `income` and `age` from imputed data `dat_imputed`. \n",
        "\n",
        "- `axis`: axis used to compute the means and standard deviations along. If 0, standardize each column, otherwise(if 1) each row.\n",
        "- `with_mean`: if True, center the data before scaliing\n",
        "- `with_std`: if True, scale the data to unit standard deviation."
      ]
    },
    {
      "cell_type": "code",
      "metadata": {
        "id": "CdcUdSaQ4Kz5"
      },
      "source": [
        "dat_s = dat_imputed[['income', 'age']]\n",
        "dat_sed = scale(dat_s,  axis = 0, with_mean = True, with_std = True)"
      ],
      "execution_count": 4,
      "outputs": []
    },
    {
      "cell_type": "markdown",
      "metadata": {
        "id": "esgP8QrW5lp6"
      },
      "source": [
        "After centering and scaling, the features are with mean 0 and standard deviation 1. "
      ]
    },
    {
      "cell_type": "code",
      "metadata": {
        "id": "0bmIbbmj4vEK",
        "outputId": "bc3a74b0-d782-47a7-f976-8d31bd2f5796",
        "colab": {
          "base_uri": "https://localhost:8080/",
          "height": 297
        }
      },
      "source": [
        "dat_sed = pd.DataFrame(data=dat_sed, columns=[\"income\", \"age\"])\n",
        "dat_sed.describe()"
      ],
      "execution_count": 8,
      "outputs": [
        {
          "output_type": "execute_result",
          "data": {
            "text/html": [
              "<div>\n",
              "<style scoped>\n",
              "    .dataframe tbody tr th:only-of-type {\n",
              "        vertical-align: middle;\n",
              "    }\n",
              "\n",
              "    .dataframe tbody tr th {\n",
              "        vertical-align: top;\n",
              "    }\n",
              "\n",
              "    .dataframe thead th {\n",
              "        text-align: right;\n",
              "    }\n",
              "</style>\n",
              "<table border=\"1\" class=\"dataframe\">\n",
              "  <thead>\n",
              "    <tr style=\"text-align: right;\">\n",
              "      <th></th>\n",
              "      <th>income</th>\n",
              "      <th>age</th>\n",
              "    </tr>\n",
              "  </thead>\n",
              "  <tbody>\n",
              "    <tr>\n",
              "      <th>count</th>\n",
              "      <td>1.000000e+03</td>\n",
              "      <td>1.000000e+03</td>\n",
              "    </tr>\n",
              "    <tr>\n",
              "      <th>mean</th>\n",
              "      <td>2.660649e-16</td>\n",
              "      <td>-1.370015e-16</td>\n",
              "    </tr>\n",
              "    <tr>\n",
              "      <th>std</th>\n",
              "      <td>1.000500e+00</td>\n",
              "      <td>1.000500e+00</td>\n",
              "    </tr>\n",
              "    <tr>\n",
              "      <th>min</th>\n",
              "      <td>-1.501074e+00</td>\n",
              "      <td>-1.391952e+00</td>\n",
              "    </tr>\n",
              "    <tr>\n",
              "      <th>25%</th>\n",
              "      <td>-5.806889e-01</td>\n",
              "      <td>-8.434598e-01</td>\n",
              "    </tr>\n",
              "    <tr>\n",
              "      <th>50%</th>\n",
              "      <td>-4.062407e-01</td>\n",
              "      <td>-1.730799e-01</td>\n",
              "    </tr>\n",
              "    <tr>\n",
              "      <th>75%</th>\n",
              "      <td>2.192401e-01</td>\n",
              "      <td>8.629617e-01</td>\n",
              "    </tr>\n",
              "    <tr>\n",
              "      <th>max</th>\n",
              "      <td>4.250212e+00</td>\n",
              "      <td>1.591604e+01</td>\n",
              "    </tr>\n",
              "  </tbody>\n",
              "</table>\n",
              "</div>"
            ],
            "text/plain": [
              "             income           age\n",
              "count  1.000000e+03  1.000000e+03\n",
              "mean   2.660649e-16 -1.370015e-16\n",
              "std    1.000500e+00  1.000500e+00\n",
              "min   -1.501074e+00 -1.391952e+00\n",
              "25%   -5.806889e-01 -8.434598e-01\n",
              "50%   -4.062407e-01 -1.730799e-01\n",
              "75%    2.192401e-01  8.629617e-01\n",
              "max    4.250212e+00  1.591604e+01"
            ]
          },
          "metadata": {
            "tags": []
          },
          "execution_count": 8
        }
      ]
    },
    {
      "cell_type": "markdown",
      "metadata": {
        "id": "hG-0Qzzo58Rv"
      },
      "source": [
        "# 04-Resolve Skewness\n",
        "\n",
        "We can use `sklearn.preprocessing.power_transform` to resolve skewness in the data. Currently, `power_transform` supports the Box-Cox transform and the Yeo-Johnson transform. The optimal parameter for stabilizing variance and minimizing skewness is estimated through maximum likelihood. Let's apply Box-Cox transformation."
      ]
    },
    {
      "cell_type": "code",
      "metadata": {
        "id": "640a6yTF4yal"
      },
      "source": [
        "dat_skew = dat_imputed[['income', 'age']]\n",
        "dat_skew_res = power_transform(dat_skew, method = 'box-cox')"
      ],
      "execution_count": 9,
      "outputs": []
    },
    {
      "cell_type": "code",
      "metadata": {
        "id": "_eO4qZWT66r1"
      },
      "source": [
        "dat_skew_res = pd.DataFrame(data=dat_skew_res, columns=[\"income\", \"age\"])"
      ],
      "execution_count": 11,
      "outputs": []
    },
    {
      "cell_type": "code",
      "metadata": {
        "id": "9MHDKFfm67iy",
        "outputId": "7f8a8b31-da43-4b3d-a28a-63b4dcf2940f",
        "colab": {
          "base_uri": "https://localhost:8080/",
          "height": 294
        }
      },
      "source": [
        "fig, axs = plt.subplots(2)\n",
        "fig.suptitle('Before (top) and after (bottom) transformation')\n",
        "axs[0].hist(dat_imputed.income)\n",
        "axs[1].hist(dat_skew_res.income)\n",
        "plt.show()"
      ],
      "execution_count": 17,
      "outputs": [
        {
          "output_type": "display_data",
          "data": {
            "image/png": "[encoded data removed]",
            "text/plain": [
              "<Figure size 432x288 with 2 Axes>"
            ]
          },
          "metadata": {
            "tags": [],
            "needs_background": "light"
          }
        }
      ]
    },
    {
      "cell_type": "markdown",
      "metadata": {
        "id": "N5SZoGYd03Lx"
      },
      "source": [
        "# 05-Resolve Outliers\n",
        "\n",
        "Box plot, histogram and some other basic visualizations can be used to initially check whether there are outliers. For example, we can visualize numerical non-survey variables using scatter matrix plot:"
      ]
    },
    {
      "cell_type": "code",
      "metadata": {
        "id": "N0NTaVQI05ui",
        "outputId": "3a81b946-a642-4e81-a7a2-7efffc65a595",
        "colab": {
          "base_uri": "https://localhost:8080/",
          "height": 735
        }
      },
      "source": [
        "# select numerical non-survey data\n",
        "subdat = dat_imputed[[\"age\", \"income\", \"store_exp\", \n",
        "    \"online_exp\", \"store_trans\", \"online_trans\"]]\n",
        "subdat = pd.DataFrame(data=subdat, columns=[\"age\", \"income\", \"store_exp\", \n",
        "    \"online_exp\", \"store_trans\", \"online_trans\"])\n",
        "plts = pd.plotting.scatter_matrix(subdat, alpha=0.2, figsize = (12,12))"
      ],
      "execution_count": 22,
      "outputs": [
        {
          "output_type": "display_data",
          "data": {
            "image/png": "[encoded data removed]",
            "text/plain": [
              "<Figure size 864x864 with 36 Axes>"
            ]
          },
          "metadata": {
            "tags": [],
            "needs_background": "light"
          }
        }
      ]
    },
    {
      "cell_type": "markdown",
      "metadata": {
        "id": "0HpP2KI5458E"
      },
      "source": [
        "Let us use MAD (section 5.5 of the book) to detect ourliers. The result here is slightly different because we use the imputed data `dat_imputed` here.\n"
      ]
    },
    {
      "cell_type": "code",
      "metadata": {
        "id": "bHbU2xgF4xR_",
        "outputId": "982cabc1-f08f-4556-bd02-1b225502e127",
        "colab": {
          "base_uri": "https://localhost:8080/",
          "height": 34
        }
      },
      "source": [
        "# calculate median of the absolute dispersion for income\n",
        "income = dat_imputed.income\n",
        "ymad = stats.median_absolute_deviation(income)\n",
        "# calculate z-score\n",
        "zs = (income - mean(income))/ymad\n",
        "# count the number of outliers\n",
        "sum(zs > 3.5)"
      ],
      "execution_count": 27,
      "outputs": [
        {
          "output_type": "execute_result",
          "data": {
            "text/plain": [
              "51"
            ]
          },
          "metadata": {
            "tags": []
          },
          "execution_count": 27
        }
      ]
    },
    {
      "cell_type": "markdown",
      "metadata": {
        "id": "KZjsGrKhBsUn"
      },
      "source": [
        "# 06-Collinearity\n",
        "\n",
        "Checking correlations is an important part of the exploratory data analysis process. In python, you can visualize correlation structure of a set of predictors using [seaborn](https://seaborn.pydata.org) library."
      ]
    },
    {
      "cell_type": "code",
      "metadata": {
        "id": "in4j3QlvaTh1",
        "outputId": "b5ddce81-bfea-4382-84c8-1f9ac48527e2",
        "colab": {
          "base_uri": "https://localhost:8080/",
          "height": 321
        }
      },
      "source": [
        "# select non-survey numerical variables\n",
        "df = dat_imputed[[\"age\", \"income\", \"store_exp\", \"online_exp\", \"store_trans\", \"online_trans\"]]\n",
        "df = pd.DataFrame(df, columns = [\"age\", \"income\", \"store_exp\", \"online_exp\", \"store_trans\", \"online_trans\"])\n",
        "cor_plot = sns.heatmap(df.corr(), annot = True)"
      ],
      "execution_count": 50,
      "outputs": [
        {
          "output_type": "display_data",
          "data": {
            "image/png": "[encoded data removed]",
            "text/plain": [
              "<Figure size 432x288 with 2 Axes>"
            ]
          },
          "metadata": {
            "tags": [],
            "needs_background": "light"
          }
        }
      ]
    },
    {
      "cell_type": "markdown",
      "metadata": {
        "id": "xx1db51vcbTo"
      },
      "source": [
        "The closer the correlation is to 0, the lighter the color is. Let us write a `findCorrelation()` function to remove a minimum number of predictors to ensure all pairwise correlations are below a certain threshold."
      ]
    },
    {
      "cell_type": "code",
      "metadata": {
        "id": "8pGVYnr5_hBx"
      },
      "source": [
        "## Drop out highly correlated features in Python\n",
        "def findCorrelation(df, cutoff = 0.8):\n",
        "    \"\"\"\n",
        "    Given a numeric pd.DataFrame, this will find highly correlated features,\n",
        "    and return a list of features to remove\n",
        "    params:\n",
        "    - df : pd.DataFrame\n",
        "    - cutoff : correlation threshold, will remove one of pairs of features with\n",
        "               a correlation greater than this value\n",
        "    \"\"\"\n",
        "    # Create correlation matrix\n",
        "    corr_matrix = df.corr().abs()\n",
        "    # Select upper triangle of correlation matrix\n",
        "    upper = corr_matrix.where(np.triu(np.ones(corr_matrix.shape), k=1).astype(np.bool))\n",
        "    # Find index of feature columns with correlation greater than cutoff\n",
        "    to_drop = [column for column in upper.columns if any(upper[column] > cutoff)]\n",
        "    return(to_drop)"
      ],
      "execution_count": 51,
      "outputs": []
    },
    {
      "cell_type": "markdown",
      "metadata": {
        "id": "8nVffCXzqSze"
      },
      "source": [
        "Remove the columns:"
      ]
    },
    {
      "cell_type": "code",
      "metadata": {
        "id": "flyLva07c3W5",
        "outputId": "c3f6950f-a702-4065-8c26-dff7039f042c",
        "colab": {
          "base_uri": "https://localhost:8080/",
          "height": 190
        }
      },
      "source": [
        "removeCols = findCorrelation(df, cutoff = 0.7)\n",
        "print(removeCols)\n",
        "df1 = df.drop(columns = removeCols) \n",
        "# check the new cor matrix\n",
        "df1.corr()"
      ],
      "execution_count": 52,
      "outputs": [
        {
          "output_type": "stream",
          "text": [
            "['store_trans', 'online_trans']\n"
          ],
          "name": "stdout"
        },
        {
          "output_type": "execute_result",
          "data": {
            "text/html": [
              "<div>\n",
              "<style scoped>\n",
              "    .dataframe tbody tr th:only-of-type {\n",
              "        vertical-align: middle;\n",
              "    }\n",
              "\n",
              "    .dataframe tbody tr th {\n",
              "        vertical-align: top;\n",
              "    }\n",
              "\n",
              "    .dataframe thead th {\n",
              "        text-align: right;\n",
              "    }\n",
              "</style>\n",
              "<table border=\"1\" class=\"dataframe\">\n",
              "  <thead>\n",
              "    <tr style=\"text-align: right;\">\n",
              "      <th></th>\n",
              "      <th>age</th>\n",
              "      <th>income</th>\n",
              "      <th>store_exp</th>\n",
              "      <th>online_exp</th>\n",
              "    </tr>\n",
              "  </thead>\n",
              "  <tbody>\n",
              "    <tr>\n",
              "      <th>age</th>\n",
              "      <td>1.000000</td>\n",
              "      <td>0.286468</td>\n",
              "      <td>0.071618</td>\n",
              "      <td>-0.256114</td>\n",
              "    </tr>\n",
              "    <tr>\n",
              "      <th>income</th>\n",
              "      <td>0.286468</td>\n",
              "      <td>1.000000</td>\n",
              "      <td>0.594594</td>\n",
              "      <td>0.511080</td>\n",
              "    </tr>\n",
              "    <tr>\n",
              "      <th>store_exp</th>\n",
              "      <td>0.071618</td>\n",
              "      <td>0.594594</td>\n",
              "      <td>1.000000</td>\n",
              "      <td>0.534909</td>\n",
              "    </tr>\n",
              "    <tr>\n",
              "      <th>online_exp</th>\n",
              "      <td>-0.256114</td>\n",
              "      <td>0.511080</td>\n",
              "      <td>0.534909</td>\n",
              "      <td>1.000000</td>\n",
              "    </tr>\n",
              "  </tbody>\n",
              "</table>\n",
              "</div>"
            ],
            "text/plain": [
              "                 age    income  store_exp  online_exp\n",
              "age         1.000000  0.286468   0.071618   -0.256114\n",
              "income      0.286468  1.000000   0.594594    0.511080\n",
              "store_exp   0.071618  0.594594   1.000000    0.534909\n",
              "online_exp -0.256114  0.511080   0.534909    1.000000"
            ]
          },
          "metadata": {
            "tags": []
          },
          "execution_count": 52
        }
      ]
    },
    {
      "cell_type": "markdown",
      "metadata": {
        "id": "U0z0aRmgsRYZ"
      },
      "source": [
        "# 07-Sparse Variables"
      ]
    },
    {
      "cell_type": "code",
      "metadata": {
        "id": "U3PY33N-vIP7",
        "outputId": "358ef7ca-2677-496c-d76a-bf8a9b8871ff",
        "colab": {
          "base_uri": "https://localhost:8080/",
          "height": 421
        }
      },
      "source": [
        "# create a data frame with sparse variables\n",
        "col1 = [0,0,0,0,1,1,0,0,0,0,0,0,]\n",
        "col2 = range(0,len(col1))\n",
        "a_dict = {\"col1\":col1,  \"col2\":col2}\n",
        "df = pd.DataFrame(a_dict)\n",
        "df"
      ],
      "execution_count": 57,
      "outputs": [
        {
          "output_type": "execute_result",
          "data": {
            "text/html": [
              "<div>\n",
              "<style scoped>\n",
              "    .dataframe tbody tr th:only-of-type {\n",
              "        vertical-align: middle;\n",
              "    }\n",
              "\n",
              "    .dataframe tbody tr th {\n",
              "        vertical-align: top;\n",
              "    }\n",
              "\n",
              "    .dataframe thead th {\n",
              "        text-align: right;\n",
              "    }\n",
              "</style>\n",
              "<table border=\"1\" class=\"dataframe\">\n",
              "  <thead>\n",
              "    <tr style=\"text-align: right;\">\n",
              "      <th></th>\n",
              "      <th>col1</th>\n",
              "      <th>col2</th>\n",
              "    </tr>\n",
              "  </thead>\n",
              "  <tbody>\n",
              "    <tr>\n",
              "      <th>0</th>\n",
              "      <td>0</td>\n",
              "      <td>0</td>\n",
              "    </tr>\n",
              "    <tr>\n",
              "      <th>1</th>\n",
              "      <td>0</td>\n",
              "      <td>1</td>\n",
              "    </tr>\n",
              "    <tr>\n",
              "      <th>2</th>\n",
              "      <td>0</td>\n",
              "      <td>2</td>\n",
              "    </tr>\n",
              "    <tr>\n",
              "      <th>3</th>\n",
              "      <td>0</td>\n",
              "      <td>3</td>\n",
              "    </tr>\n",
              "    <tr>\n",
              "      <th>4</th>\n",
              "      <td>1</td>\n",
              "      <td>4</td>\n",
              "    </tr>\n",
              "    <tr>\n",
              "      <th>5</th>\n",
              "      <td>1</td>\n",
              "      <td>5</td>\n",
              "    </tr>\n",
              "    <tr>\n",
              "      <th>6</th>\n",
              "      <td>0</td>\n",
              "      <td>6</td>\n",
              "    </tr>\n",
              "    <tr>\n",
              "      <th>7</th>\n",
              "      <td>0</td>\n",
              "      <td>7</td>\n",
              "    </tr>\n",
              "    <tr>\n",
              "      <th>8</th>\n",
              "      <td>0</td>\n",
              "      <td>8</td>\n",
              "    </tr>\n",
              "    <tr>\n",
              "      <th>9</th>\n",
              "      <td>0</td>\n",
              "      <td>9</td>\n",
              "    </tr>\n",
              "    <tr>\n",
              "      <th>10</th>\n",
              "      <td>0</td>\n",
              "      <td>10</td>\n",
              "    </tr>\n",
              "    <tr>\n",
              "      <th>11</th>\n",
              "      <td>0</td>\n",
              "      <td>11</td>\n",
              "    </tr>\n",
              "  </tbody>\n",
              "</table>\n",
              "</div>"
            ],
            "text/plain": [
              "    col1  col2\n",
              "0      0     0\n",
              "1      0     1\n",
              "2      0     2\n",
              "3      0     3\n",
              "4      1     4\n",
              "5      1     5\n",
              "6      0     6\n",
              "7      0     7\n",
              "8      0     8\n",
              "9      0     9\n",
              "10     0    10\n",
              "11     0    11"
            ]
          },
          "metadata": {
            "tags": []
          },
          "execution_count": 57
        }
      ]
    },
    {
      "cell_type": "markdown",
      "metadata": {
        "id": "zr_kacO9yXIp"
      },
      "source": [
        "Define a function to remove columns that have a low variance. An instance of the class can be created specify the “threshold” argument, which defaults to 0.0 to remove columns with a single value."
      ]
    },
    {
      "cell_type": "code",
      "metadata": {
        "id": "S0jrgkDkuvVj"
      },
      "source": [
        "def variance_threshold_selector(df, threshold=0):\n",
        "    \"\"\"\n",
        "    Given a numeric pd.DataFrame, this will remove columns that have a low variance and the return \n",
        "    the resulted dataframe\n",
        "    params:\n",
        "    - df : input dataframe from which to compute variances.\n",
        "    - threshold : Features with a training set variance lower than this threshold will be removed. \n",
        "                  The default is to keep all features with non-zero variance, i.e. remove the features \n",
        "                  that have the same value in all samples.\n",
        "    \"\"\"\n",
        "    selector = VarianceThreshold(threshold)\n",
        "    selector.fit(df)\n",
        "    res = df[df.columns[selector.get_support(indices=True)]]\n",
        "    return res"
      ],
      "execution_count": 58,
      "outputs": []
    },
    {
      "cell_type": "code",
      "metadata": {
        "id": "FI2fhmc2vwQA",
        "outputId": "48afd941-75dd-4d4c-db55-6e1486db75f6",
        "colab": {
          "base_uri": "https://localhost:8080/",
          "height": 421
        }
      },
      "source": [
        "# apply the function to the generated data set\n",
        "variance_threshold_selector(df, threshold = 0.2)"
      ],
      "execution_count": 59,
      "outputs": [
        {
          "output_type": "execute_result",
          "data": {
            "text/html": [
              "<div>\n",
              "<style scoped>\n",
              "    .dataframe tbody tr th:only-of-type {\n",
              "        vertical-align: middle;\n",
              "    }\n",
              "\n",
              "    .dataframe tbody tr th {\n",
              "        vertical-align: top;\n",
              "    }\n",
              "\n",
              "    .dataframe thead th {\n",
              "        text-align: right;\n",
              "    }\n",
              "</style>\n",
              "<table border=\"1\" class=\"dataframe\">\n",
              "  <thead>\n",
              "    <tr style=\"text-align: right;\">\n",
              "      <th></th>\n",
              "      <th>col2</th>\n",
              "    </tr>\n",
              "  </thead>\n",
              "  <tbody>\n",
              "    <tr>\n",
              "      <th>0</th>\n",
              "      <td>0</td>\n",
              "    </tr>\n",
              "    <tr>\n",
              "      <th>1</th>\n",
              "      <td>1</td>\n",
              "    </tr>\n",
              "    <tr>\n",
              "      <th>2</th>\n",
              "      <td>2</td>\n",
              "    </tr>\n",
              "    <tr>\n",
              "      <th>3</th>\n",
              "      <td>3</td>\n",
              "    </tr>\n",
              "    <tr>\n",
              "      <th>4</th>\n",
              "      <td>4</td>\n",
              "    </tr>\n",
              "    <tr>\n",
              "      <th>5</th>\n",
              "      <td>5</td>\n",
              "    </tr>\n",
              "    <tr>\n",
              "      <th>6</th>\n",
              "      <td>6</td>\n",
              "    </tr>\n",
              "    <tr>\n",
              "      <th>7</th>\n",
              "      <td>7</td>\n",
              "    </tr>\n",
              "    <tr>\n",
              "      <th>8</th>\n",
              "      <td>8</td>\n",
              "    </tr>\n",
              "    <tr>\n",
              "      <th>9</th>\n",
              "      <td>9</td>\n",
              "    </tr>\n",
              "    <tr>\n",
              "      <th>10</th>\n",
              "      <td>10</td>\n",
              "    </tr>\n",
              "    <tr>\n",
              "      <th>11</th>\n",
              "      <td>11</td>\n",
              "    </tr>\n",
              "  </tbody>\n",
              "</table>\n",
              "</div>"
            ],
            "text/plain": [
              "    col2\n",
              "0      0\n",
              "1      1\n",
              "2      2\n",
              "3      3\n",
              "4      4\n",
              "5      5\n",
              "6      6\n",
              "7      7\n",
              "8      8\n",
              "9      9\n",
              "10    10\n",
              "11    11"
            ]
          },
          "metadata": {
            "tags": []
          },
          "execution_count": 59
        }
      ]
    },
    {
      "cell_type": "markdown",
      "metadata": {
        "id": "9S7egB6fsYwB"
      },
      "source": [
        "# 08-Encode Dummy Variables\n",
        "\n",
        "Let’s encode `gender` and `house` from `dat_imputed` to dummy variables. You can use `get_dummies` function from `pandas`:"
      ]
    },
    {
      "cell_type": "code",
      "metadata": {
        "id": "BD__M0vQ0E0X",
        "outputId": "f35083a1-c2c2-4e1e-c2bb-fbbb0d69d38e",
        "colab": {
          "base_uri": "https://localhost:8080/",
          "height": 204
        }
      },
      "source": [
        "df = dat_imputed[['gender', 'house']]\n",
        "pd.get_dummies(df).head()"
      ],
      "execution_count": 62,
      "outputs": [
        {
          "output_type": "execute_result",
          "data": {
            "text/html": [
              "<div>\n",
              "<style scoped>\n",
              "    .dataframe tbody tr th:only-of-type {\n",
              "        vertical-align: middle;\n",
              "    }\n",
              "\n",
              "    .dataframe tbody tr th {\n",
              "        vertical-align: top;\n",
              "    }\n",
              "\n",
              "    .dataframe thead th {\n",
              "        text-align: right;\n",
              "    }\n",
              "</style>\n",
              "<table border=\"1\" class=\"dataframe\">\n",
              "  <thead>\n",
              "    <tr style=\"text-align: right;\">\n",
              "      <th></th>\n",
              "      <th>gender_Female</th>\n",
              "      <th>gender_Male</th>\n",
              "      <th>house_No</th>\n",
              "      <th>house_Yes</th>\n",
              "    </tr>\n",
              "  </thead>\n",
              "  <tbody>\n",
              "    <tr>\n",
              "      <th>0</th>\n",
              "      <td>1</td>\n",
              "      <td>0</td>\n",
              "      <td>0</td>\n",
              "      <td>1</td>\n",
              "    </tr>\n",
              "    <tr>\n",
              "      <th>1</th>\n",
              "      <td>1</td>\n",
              "      <td>0</td>\n",
              "      <td>0</td>\n",
              "      <td>1</td>\n",
              "    </tr>\n",
              "    <tr>\n",
              "      <th>2</th>\n",
              "      <td>0</td>\n",
              "      <td>1</td>\n",
              "      <td>0</td>\n",
              "      <td>1</td>\n",
              "    </tr>\n",
              "    <tr>\n",
              "      <th>3</th>\n",
              "      <td>0</td>\n",
              "      <td>1</td>\n",
              "      <td>0</td>\n",
              "      <td>1</td>\n",
              "    </tr>\n",
              "    <tr>\n",
              "      <th>4</th>\n",
              "      <td>0</td>\n",
              "      <td>1</td>\n",
              "      <td>0</td>\n",
              "      <td>1</td>\n",
              "    </tr>\n",
              "  </tbody>\n",
              "</table>\n",
              "</div>"
            ],
            "text/plain": [
              "   gender_Female  gender_Male  house_No  house_Yes\n",
              "0              1            0         0          1\n",
              "1              1            0         0          1\n",
              "2              0            1         0          1\n",
              "3              0            1         0          1\n",
              "4              0            1         0          1"
            ]
          },
          "metadata": {
            "tags": []
          },
          "execution_count": 62
        }
      ]
    },
    {
      "cell_type": "code",
      "metadata": {
        "id": "jTTPQqz40KK_"
      },
      "source": [
        ""
      ],
      "execution_count": null,
      "outputs": []
    }
  ]
}