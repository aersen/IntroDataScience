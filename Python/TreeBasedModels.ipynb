{
  "nbformat": 4,
  "nbformat_minor": 0,
  "metadata": {
    "colab": {
      "name": "TreeBasedModels.ipynb",
      "provenance": [],
      "toc_visible": true,
      "authorship_tag": "ABX9TyOM3jAlON4NRUZuyrSDPudm",
      "include_colab_link": true
    },
    "kernelspec": {
      "name": "python3",
      "display_name": "Python 3"
    }
  },
  "cells": [
    {
      "cell_type": "markdown",
      "metadata": {
        "id": "view-in-github",
        "colab_type": "text"
      },
      "source": [
        "<a href=\"https://colab.research.google.com/github/happyrabbit/IntroDataScience/blob/master/Python/TreeBasedModels.ipynb\" target=\"_parent\"><img src=\"https://colab.research.google.com/assets/colab-badge.svg\" alt=\"Open In Colab\"/></a>"
      ]
    },
    {
      "cell_type": "markdown",
      "metadata": {
        "id": "iXcL4kmNNksQ"
      },
      "source": [
        "# Tree-based Models notebook\n",
        "\n",
        "In this notebook, we will use Python to fit regression and classfication tree models, as well as extentions such as random forest and gradient boosted trees."
      ]
    },
    {
      "cell_type": "code",
      "metadata": {
        "id": "Fy9Je7u64Cmz",
        "outputId": "90e0c8d6-3116-441d-95f2-18d749b759ef",
        "colab": {
          "base_uri": "https://localhost:8080/",
          "height": 235
        }
      },
      "source": [
        "# Load packages\n",
        "import pandas as pd\n",
        "import numpy as np\n",
        "from sklearn import tree\n",
        "from sklearn.model_selection import GridSearchCV, RandomizedSearchCV\n",
        "import sklearn.model_selection as ms\n",
        "from sklearn import metrics\n",
        "from sklearn.metrics import roc_curve\n",
        "from sklearn.ensemble import BaggingClassifier, RandomForestClassifier, GradientBoostingClassifier\n",
        "import matplotlib.pyplot as plt\n",
        "# Read data\n",
        "dat = pd.read_csv(\"http://bit.ly/2P5gTw4\")\n",
        "dat[:6]"
      ],
      "execution_count": 35,
      "outputs": [
        {
          "output_type": "execute_result",
          "data": {
            "text/html": [
              "<div>\n",
              "<style scoped>\n",
              "    .dataframe tbody tr th:only-of-type {\n",
              "        vertical-align: middle;\n",
              "    }\n",
              "\n",
              "    .dataframe tbody tr th {\n",
              "        vertical-align: top;\n",
              "    }\n",
              "\n",
              "    .dataframe thead th {\n",
              "        text-align: right;\n",
              "    }\n",
              "</style>\n",
              "<table border=\"1\" class=\"dataframe\">\n",
              "  <thead>\n",
              "    <tr style=\"text-align: right;\">\n",
              "      <th></th>\n",
              "      <th>age</th>\n",
              "      <th>gender</th>\n",
              "      <th>income</th>\n",
              "      <th>house</th>\n",
              "      <th>store_exp</th>\n",
              "      <th>online_exp</th>\n",
              "      <th>store_trans</th>\n",
              "      <th>online_trans</th>\n",
              "      <th>Q1</th>\n",
              "      <th>Q2</th>\n",
              "      <th>Q3</th>\n",
              "      <th>Q4</th>\n",
              "      <th>Q5</th>\n",
              "      <th>Q6</th>\n",
              "      <th>Q7</th>\n",
              "      <th>Q8</th>\n",
              "      <th>Q9</th>\n",
              "      <th>Q10</th>\n",
              "      <th>segment</th>\n",
              "    </tr>\n",
              "  </thead>\n",
              "  <tbody>\n",
              "    <tr>\n",
              "      <th>0</th>\n",
              "      <td>57</td>\n",
              "      <td>Female</td>\n",
              "      <td>120963.400958</td>\n",
              "      <td>Yes</td>\n",
              "      <td>529.134363</td>\n",
              "      <td>303.512475</td>\n",
              "      <td>2</td>\n",
              "      <td>2</td>\n",
              "      <td>4</td>\n",
              "      <td>2</td>\n",
              "      <td>1</td>\n",
              "      <td>2</td>\n",
              "      <td>1</td>\n",
              "      <td>4</td>\n",
              "      <td>1</td>\n",
              "      <td>4</td>\n",
              "      <td>2</td>\n",
              "      <td>4</td>\n",
              "      <td>Price</td>\n",
              "    </tr>\n",
              "    <tr>\n",
              "      <th>1</th>\n",
              "      <td>63</td>\n",
              "      <td>Female</td>\n",
              "      <td>122008.104950</td>\n",
              "      <td>Yes</td>\n",
              "      <td>478.005781</td>\n",
              "      <td>109.529710</td>\n",
              "      <td>4</td>\n",
              "      <td>2</td>\n",
              "      <td>4</td>\n",
              "      <td>1</td>\n",
              "      <td>1</td>\n",
              "      <td>2</td>\n",
              "      <td>1</td>\n",
              "      <td>4</td>\n",
              "      <td>1</td>\n",
              "      <td>4</td>\n",
              "      <td>1</td>\n",
              "      <td>4</td>\n",
              "      <td>Price</td>\n",
              "    </tr>\n",
              "    <tr>\n",
              "      <th>2</th>\n",
              "      <td>59</td>\n",
              "      <td>Male</td>\n",
              "      <td>114202.295294</td>\n",
              "      <td>Yes</td>\n",
              "      <td>490.810731</td>\n",
              "      <td>279.249582</td>\n",
              "      <td>7</td>\n",
              "      <td>2</td>\n",
              "      <td>5</td>\n",
              "      <td>2</td>\n",
              "      <td>1</td>\n",
              "      <td>2</td>\n",
              "      <td>1</td>\n",
              "      <td>4</td>\n",
              "      <td>1</td>\n",
              "      <td>4</td>\n",
              "      <td>1</td>\n",
              "      <td>4</td>\n",
              "      <td>Price</td>\n",
              "    </tr>\n",
              "    <tr>\n",
              "      <th>3</th>\n",
              "      <td>60</td>\n",
              "      <td>Male</td>\n",
              "      <td>113616.337078</td>\n",
              "      <td>Yes</td>\n",
              "      <td>347.809004</td>\n",
              "      <td>141.669752</td>\n",
              "      <td>10</td>\n",
              "      <td>2</td>\n",
              "      <td>5</td>\n",
              "      <td>2</td>\n",
              "      <td>1</td>\n",
              "      <td>3</td>\n",
              "      <td>1</td>\n",
              "      <td>4</td>\n",
              "      <td>1</td>\n",
              "      <td>4</td>\n",
              "      <td>2</td>\n",
              "      <td>4</td>\n",
              "      <td>Price</td>\n",
              "    </tr>\n",
              "    <tr>\n",
              "      <th>4</th>\n",
              "      <td>51</td>\n",
              "      <td>Male</td>\n",
              "      <td>124252.552787</td>\n",
              "      <td>Yes</td>\n",
              "      <td>379.625940</td>\n",
              "      <td>112.237177</td>\n",
              "      <td>4</td>\n",
              "      <td>4</td>\n",
              "      <td>4</td>\n",
              "      <td>1</td>\n",
              "      <td>1</td>\n",
              "      <td>3</td>\n",
              "      <td>1</td>\n",
              "      <td>4</td>\n",
              "      <td>1</td>\n",
              "      <td>4</td>\n",
              "      <td>2</td>\n",
              "      <td>4</td>\n",
              "      <td>Price</td>\n",
              "    </tr>\n",
              "    <tr>\n",
              "      <th>5</th>\n",
              "      <td>59</td>\n",
              "      <td>Male</td>\n",
              "      <td>107661.456130</td>\n",
              "      <td>Yes</td>\n",
              "      <td>338.315403</td>\n",
              "      <td>195.687013</td>\n",
              "      <td>4</td>\n",
              "      <td>5</td>\n",
              "      <td>4</td>\n",
              "      <td>2</td>\n",
              "      <td>1</td>\n",
              "      <td>2</td>\n",
              "      <td>1</td>\n",
              "      <td>4</td>\n",
              "      <td>1</td>\n",
              "      <td>4</td>\n",
              "      <td>1</td>\n",
              "      <td>4</td>\n",
              "      <td>Price</td>\n",
              "    </tr>\n",
              "  </tbody>\n",
              "</table>\n",
              "</div>"
            ],
            "text/plain": [
              "   age  gender         income house   store_exp  ...  Q7  Q8  Q9  Q10  segment\n",
              "0   57  Female  120963.400958   Yes  529.134363  ...   1   4   2    4    Price\n",
              "1   63  Female  122008.104950   Yes  478.005781  ...   1   4   1    4    Price\n",
              "2   59    Male  114202.295294   Yes  490.810731  ...   1   4   1    4    Price\n",
              "3   60    Male  113616.337078   Yes  347.809004  ...   1   4   2    4    Price\n",
              "4   51    Male  124252.552787   Yes  379.625940  ...   1   4   2    4    Price\n",
              "5   59    Male  107661.456130   Yes  338.315403  ...   1   4   1    4    Price\n",
              "\n",
              "[6 rows x 19 columns]"
            ]
          },
          "metadata": {
            "tags": []
          },
          "execution_count": 35
        }
      ]
    },
    {
      "cell_type": "markdown",
      "metadata": {
        "id": "s3kurBrqNuNh"
      },
      "source": [
        "# 01-Regression Tree"
      ]
    },
    {
      "cell_type": "code",
      "metadata": {
        "id": "9VSSHhxa5bGs"
      },
      "source": [
        "# data cleaning: delete wrong observations\n",
        "dat = dat[dat.store_exp > 0]\n",
        "dat = dat[dat.online_exp > 0]\n",
        "\n",
        "# use the 10 survey questions as predictors\n",
        "x = dat.filter(regex = \"^Q\")\n",
        "\n",
        "# use the sum of store and online expenditure as response variable\n",
        "# total expenditure = store expenditure + online expenditure\n",
        "y = dat.store_exp + dat.online_exp"
      ],
      "execution_count": 32,
      "outputs": []
    },
    {
      "cell_type": "markdown",
      "metadata": {
        "id": "oK-UbZT5WFuJ"
      },
      "source": [
        "We split the data into training and testing:"
      ]
    },
    {
      "cell_type": "code",
      "metadata": {
        "id": "ra-ghwLPWMab"
      },
      "source": [
        "xtrain, xtest, ytrain, ytest = ms.train_test_split(x, y, test_size = 0.2, random_state = 1)"
      ],
      "execution_count": 50,
      "outputs": []
    },
    {
      "cell_type": "markdown",
      "metadata": {
        "id": "ifpPuB_YWic9"
      },
      "source": [
        "Let's define values over which over which our search will be performed"
      ]
    },
    {
      "cell_type": "code",
      "metadata": {
        "id": "V8P6qjbT4BBC"
      },
      "source": [
        "depth_val = np.arange(1, 11)\n",
        "grid_tune = [{'max_depth': depth_val}]"
      ],
      "execution_count": 51,
      "outputs": []
    },
    {
      "cell_type": "code",
      "metadata": {
        "id": "s9tRLtRsQtIJ"
      },
      "source": [
        "# instantiate the tree model \n",
        "tree_model = tree.DecisionTreeRegressor()\t"
      ],
      "execution_count": 52,
      "outputs": []
    },
    {
      "cell_type": "markdown",
      "metadata": {
        "id": "oeOvgDFhWx2D"
      },
      "source": [
        "Run the search and use the best parameters found. Here we use 10 fold cross-validation. "
      ]
    },
    {
      "cell_type": "code",
      "metadata": {
        "id": "JdXtynSJQfEu"
      },
      "source": [
        "cv_tree = GridSearchCV(estimator = tree_model,\n",
        "                       param_grid = grid_tune,\n",
        "                       cv = ms.KFold(n_splits = 10))\n",
        "fit_model = cv_tree.fit(xtrain, ytrain)\t"
      ],
      "execution_count": 53,
      "outputs": []
    },
    {
      "cell_type": "code",
      "metadata": {
        "id": "2BlmMGZkR240",
        "outputId": "420b0fc3-26a1-4d27-9909-eec099f836bb",
        "colab": {
          "base_uri": "https://localhost:8080/",
          "height": 34
        }
      },
      "source": [
        "# get the best max_depth\n",
        "best_depth = fit_model.best_params_[\"max_depth\"]\n",
        "best_depth"
      ],
      "execution_count": 61,
      "outputs": [
        {
          "output_type": "execute_result",
          "data": {
            "text/plain": [
              "2"
            ]
          },
          "metadata": {
            "tags": []
          },
          "execution_count": 61
        }
      ]
    },
    {
      "cell_type": "markdown",
      "metadata": {
        "id": "WcfdT__vVnI0"
      },
      "source": [
        "In this case, the best maximum depth is 2. Let us apply the model to the testing subset:"
      ]
    },
    {
      "cell_type": "code",
      "metadata": {
        "id": "Qx1srQAmXHbK"
      },
      "source": [
        "tree_model = tree.DecisionTreeRegressor(max_depth = best_depth)\n",
        "train_model = tree_model.fit(xtrain, ytrain)\n",
        "ypred = train_model.predict(xtest)"
      ],
      "execution_count": 57,
      "outputs": []
    },
    {
      "cell_type": "markdown",
      "metadata": {
        "id": "NFp-fkksYkdh"
      },
      "source": [
        "You can get the mean absolute error:"
      ]
    },
    {
      "cell_type": "code",
      "metadata": {
        "id": "7_rjd53QYWn9",
        "outputId": "6d4567b5-68f1-48f7-be55-41249e4f169d",
        "colab": {
          "base_uri": "https://localhost:8080/",
          "height": 34
        }
      },
      "source": [
        "metrics.mean_absolute_error(ytest, ypred)"
      ],
      "execution_count": 59,
      "outputs": [
        {
          "output_type": "execute_result",
          "data": {
            "text/plain": [
              "381.41288147147645"
            ]
          },
          "metadata": {
            "tags": []
          },
          "execution_count": 59
        }
      ]
    },
    {
      "cell_type": "markdown",
      "metadata": {
        "id": "asF7fH7CSDrZ"
      },
      "source": [
        "We can generate a Graphviz visualisation of the tree we have."
      ]
    },
    {
      "cell_type": "code",
      "metadata": {
        "id": "cEVobynXNPvx",
        "outputId": "d8848c5c-60e2-4b8e-eeba-1a1f15218bfb",
        "colab": {
          "base_uri": "https://localhost:8080/",
          "height": 380
        }
      },
      "source": [
        "import graphviz\t\t\t\n",
        "display(graphviz.Source(tree.export_graphviz(train_model, max_depth = best_depth, feature_names = xtrain.columns)))"
      ],
      "execution_count": 65,
      "outputs": [
        {
          "output_type": "display_data",
          "data": {
            "text/plain": [
              "<graphviz.files.Source at 0x7fd11fc37390>"
            ],
            "image/svg+xml": "<?xml version=\"1.0\" encoding=\"UTF-8\" standalone=\"no\"?>\n<!DOCTYPE svg PUBLIC \"-//W3C//DTD SVG 1.1//EN\"\n \"http://www.w3.org/Graphics/SVG/1.1/DTD/svg11.dtd\">\n<!-- Generated by graphviz version 2.40.1 (20161225.0304)\n -->\n<!-- Title: Tree Pages: 1 -->\n<svg width=\"587pt\" height=\"269pt\"\n viewBox=\"0.00 0.00 587.00 269.00\" xmlns=\"http://www.w3.org/2000/svg\" xmlns:xlink=\"http://www.w3.org/1999/xlink\">\n<g id=\"graph0\" class=\"graph\" transform=\"scale(1 1) rotate(0) translate(4 265)\">\n<title>Tree</title>\n<polygon fill=\"#ffffff\" stroke=\"transparent\" points=\"-4,4 -4,-265 583,-265 583,4 -4,4\"/>\n<!-- 0 -->\n<g id=\"node1\" class=\"node\">\n<title>0</title>\n<polygon fill=\"none\" stroke=\"#000000\" points=\"350,-261 209,-261 209,-193 350,-193 350,-261\"/>\n<text text-anchor=\"middle\" x=\"279.5\" y=\"-245.8\" font-family=\"Times,serif\" font-size=\"14.00\" fill=\"#000000\">Q3 &lt;= 3.5</text>\n<text text-anchor=\"middle\" x=\"279.5\" y=\"-230.8\" font-family=\"Times,serif\" font-size=\"14.00\" fill=\"#000000\">mse = 17392624.876</text>\n<text text-anchor=\"middle\" x=\"279.5\" y=\"-215.8\" font-family=\"Times,serif\" font-size=\"14.00\" fill=\"#000000\">samples = 799</text>\n<text text-anchor=\"middle\" x=\"279.5\" y=\"-200.8\" font-family=\"Times,serif\" font-size=\"14.00\" fill=\"#000000\">value = 3636.392</text>\n</g>\n<!-- 1 -->\n<g id=\"node2\" class=\"node\">\n<title>1</title>\n<polygon fill=\"none\" stroke=\"#000000\" points=\"269.5,-157 135.5,-157 135.5,-89 269.5,-89 269.5,-157\"/>\n<text text-anchor=\"middle\" x=\"202.5\" y=\"-141.8\" font-family=\"Times,serif\" font-size=\"14.00\" fill=\"#000000\">Q5 &lt;= 1.5</text>\n<text text-anchor=\"middle\" x=\"202.5\" y=\"-126.8\" font-family=\"Times,serif\" font-size=\"14.00\" fill=\"#000000\">mse = 3627520.817</text>\n<text text-anchor=\"middle\" x=\"202.5\" y=\"-111.8\" font-family=\"Times,serif\" font-size=\"14.00\" fill=\"#000000\">samples = 626</text>\n<text text-anchor=\"middle\" x=\"202.5\" y=\"-96.8\" font-family=\"Times,serif\" font-size=\"14.00\" fill=\"#000000\">value = 1848.776</text>\n</g>\n<!-- 0&#45;&gt;1 -->\n<g id=\"edge1\" class=\"edge\">\n<title>0&#45;&gt;1</title>\n<path fill=\"none\" stroke=\"#000000\" d=\"M254.2873,-192.9465C247.7727,-184.1475 240.6795,-174.5672 233.8918,-165.3993\"/>\n<polygon fill=\"#000000\" stroke=\"#000000\" points=\"236.5327,-163.0843 227.7693,-157.13 230.9069,-167.2496 236.5327,-163.0843\"/>\n<text text-anchor=\"middle\" x=\"224.0809\" y=\"-178.1564\" font-family=\"Times,serif\" font-size=\"14.00\" fill=\"#000000\">True</text>\n</g>\n<!-- 4 -->\n<g id=\"node5\" class=\"node\">\n<title>4</title>\n<polygon fill=\"none\" stroke=\"#000000\" points=\"427.5,-157 287.5,-157 287.5,-89 427.5,-89 427.5,-157\"/>\n<text text-anchor=\"middle\" x=\"357.5\" y=\"-141.8\" font-family=\"Times,serif\" font-size=\"14.00\" fill=\"#000000\">Q5 &lt;= 3.5</text>\n<text text-anchor=\"middle\" x=\"357.5\" y=\"-126.8\" font-family=\"Times,serif\" font-size=\"14.00\" fill=\"#000000\">mse = 13797118.237</text>\n<text text-anchor=\"middle\" x=\"357.5\" y=\"-111.8\" font-family=\"Times,serif\" font-size=\"14.00\" fill=\"#000000\">samples = 173</text>\n<text text-anchor=\"middle\" x=\"357.5\" y=\"-96.8\" font-family=\"Times,serif\" font-size=\"14.00\" fill=\"#000000\">value = 10104.879</text>\n</g>\n<!-- 0&#45;&gt;4 -->\n<g id=\"edge4\" class=\"edge\">\n<title>0&#45;&gt;4</title>\n<path fill=\"none\" stroke=\"#000000\" d=\"M305.0401,-192.9465C311.6393,-184.1475 318.8246,-174.5672 325.7005,-165.3993\"/>\n<polygon fill=\"#000000\" stroke=\"#000000\" points=\"328.7025,-167.23 331.9025,-157.13 323.1025,-163.03 328.7025,-167.23\"/>\n<text text-anchor=\"middle\" x=\"335.438\" y=\"-178.1787\" font-family=\"Times,serif\" font-size=\"14.00\" fill=\"#000000\">False</text>\n</g>\n<!-- 2 -->\n<g id=\"node3\" class=\"node\">\n<title>2</title>\n<polygon fill=\"none\" stroke=\"#000000\" points=\"119,-53 0,-53 0,0 119,0 119,-53\"/>\n<text text-anchor=\"middle\" x=\"59.5\" y=\"-37.8\" font-family=\"Times,serif\" font-size=\"14.00\" fill=\"#000000\">mse = 13844.032</text>\n<text text-anchor=\"middle\" x=\"59.5\" y=\"-22.8\" font-family=\"Times,serif\" font-size=\"14.00\" fill=\"#000000\">samples = 194</text>\n<text text-anchor=\"middle\" x=\"59.5\" y=\"-7.8\" font-family=\"Times,serif\" font-size=\"14.00\" fill=\"#000000\">value = 705.377</text>\n</g>\n<!-- 1&#45;&gt;2 -->\n<g id=\"edge2\" class=\"edge\">\n<title>1&#45;&gt;2</title>\n<path fill=\"none\" stroke=\"#000000\" d=\"M152.0835,-88.9777C137.7,-79.2713 122.0663,-68.7213 107.8115,-59.1018\"/>\n<polygon fill=\"#000000\" stroke=\"#000000\" points=\"109.3846,-55.941 99.1376,-53.2485 105.469,-61.7435 109.3846,-55.941\"/>\n</g>\n<!-- 3 -->\n<g id=\"node4\" class=\"node\">\n<title>3</title>\n<polygon fill=\"none\" stroke=\"#000000\" points=\"271.5,-53 137.5,-53 137.5,0 271.5,0 271.5,-53\"/>\n<text text-anchor=\"middle\" x=\"204.5\" y=\"-37.8\" font-family=\"Times,serif\" font-size=\"14.00\" fill=\"#000000\">mse = 4399576.033</text>\n<text text-anchor=\"middle\" x=\"204.5\" y=\"-22.8\" font-family=\"Times,serif\" font-size=\"14.00\" fill=\"#000000\">samples = 432</text>\n<text text-anchor=\"middle\" x=\"204.5\" y=\"-7.8\" font-family=\"Times,serif\" font-size=\"14.00\" fill=\"#000000\">value = 2362.246</text>\n</g>\n<!-- 1&#45;&gt;3 -->\n<g id=\"edge3\" class=\"edge\">\n<title>1&#45;&gt;3</title>\n<path fill=\"none\" stroke=\"#000000\" d=\"M203.2051,-88.9777C203.3759,-80.7364 203.5593,-71.887 203.7328,-63.5153\"/>\n<polygon fill=\"#000000\" stroke=\"#000000\" points=\"207.2376,-63.3189 203.9456,-53.2485 200.2391,-63.1738 207.2376,-63.3189\"/>\n</g>\n<!-- 5 -->\n<g id=\"node6\" class=\"node\">\n<title>5</title>\n<polygon fill=\"none\" stroke=\"#000000\" points=\"420,-53 293,-53 293,0 420,0 420,-53\"/>\n<text text-anchor=\"middle\" x=\"356.5\" y=\"-37.8\" font-family=\"Times,serif\" font-size=\"14.00\" fill=\"#000000\">mse = 0.0</text>\n<text text-anchor=\"middle\" x=\"356.5\" y=\"-22.8\" font-family=\"Times,serif\" font-size=\"14.00\" fill=\"#000000\">samples = 1</text>\n<text text-anchor=\"middle\" x=\"356.5\" y=\"-7.8\" font-family=\"Times,serif\" font-size=\"14.00\" fill=\"#000000\">value = 16503.126</text>\n</g>\n<!-- 4&#45;&gt;5 -->\n<g id=\"edge5\" class=\"edge\">\n<title>4&#45;&gt;5</title>\n<path fill=\"none\" stroke=\"#000000\" d=\"M357.1474,-88.9777C357.062,-80.7364 356.9703,-71.887 356.8836,-63.5153\"/>\n<polygon fill=\"#000000\" stroke=\"#000000\" points=\"360.3807,-63.2116 356.7772,-53.2485 353.3811,-63.2842 360.3807,-63.2116\"/>\n</g>\n<!-- 6 -->\n<g id=\"node7\" class=\"node\">\n<title>6</title>\n<polygon fill=\"none\" stroke=\"#000000\" points=\"579,-53 438,-53 438,0 579,0 579,-53\"/>\n<text text-anchor=\"middle\" x=\"508.5\" y=\"-37.8\" font-family=\"Times,serif\" font-size=\"14.00\" fill=\"#000000\">mse = 13637941.173</text>\n<text text-anchor=\"middle\" x=\"508.5\" y=\"-22.8\" font-family=\"Times,serif\" font-size=\"14.00\" fill=\"#000000\">samples = 172</text>\n<text text-anchor=\"middle\" x=\"508.5\" y=\"-7.8\" font-family=\"Times,serif\" font-size=\"14.00\" fill=\"#000000\">value = 10067.68</text>\n</g>\n<!-- 4&#45;&gt;6 -->\n<g id=\"edge6\" class=\"edge\">\n<title>4&#45;&gt;6</title>\n<path fill=\"none\" stroke=\"#000000\" d=\"M410.737,-88.9777C426.0685,-79.1798 442.7451,-68.5222 457.9113,-58.8298\"/>\n<polygon fill=\"#000000\" stroke=\"#000000\" points=\"460.1034,-61.5827 466.6449,-53.2485 456.3338,-55.6843 460.1034,-61.5827\"/>\n</g>\n</g>\n</svg>\n"
          },
          "metadata": {
            "tags": []
          }
        }
      ]
    },
    {
      "cell_type": "markdown",
      "metadata": {
        "id": "KE65ys2dav0k"
      },
      "source": [
        "# 02-Decision Tree"
      ]
    },
    {
      "cell_type": "code",
      "metadata": {
        "id": "B2PP8q137xOM"
      },
      "source": [
        "# use the 10 survey questions as predictors\n",
        "x = dat.filter(regex = \"^Q\")\n",
        "\n",
        "# use gender as the response variable\n",
        "# convert it to be numerical with \"Female\" = 1\n",
        "y = pd.get_dummies(dat, columns = ['gender']).gender_Female \n",
        "\n",
        "# split the data into training and testing\n",
        "xtrain, xtest, ytrain, ytest = ms.train_test_split(x, y, test_size = 0.2, random_state = 1)"
      ],
      "execution_count": 9,
      "outputs": []
    },
    {
      "cell_type": "code",
      "metadata": {
        "id": "qS1tdRqSg9_d"
      },
      "source": [
        "depth_val = np.arange(1, 11)\n",
        "grid_tune = [{'max_depth': depth_val}]\n",
        "\n",
        "# instantiate the tree model \n",
        "tree_model = tree.DecisionTreeClassifier(criterion = \"entropy\")\t\n",
        "\n",
        "# 10 fold cross-validatioon\n",
        "cv_tree = GridSearchCV(estimator = tree_model,\n",
        "                       param_grid = grid_tune,\n",
        "                       cv = ms.KFold(n_splits = 10))\n",
        "fit_model = cv_tree.fit(xtrain, ytrain)\t\n",
        "\n",
        "# get the best max_depth\n",
        "best_depth = fit_model.best_params_[\"max_depth\"]"
      ],
      "execution_count": 12,
      "outputs": []
    },
    {
      "cell_type": "markdown",
      "metadata": {
        "id": "zcCUM651jVw1"
      },
      "source": [
        "Let us apply the model to the testing subset:"
      ]
    },
    {
      "cell_type": "code",
      "metadata": {
        "id": "F5NNa1MeiVam",
        "outputId": "55179d70-aee3-464b-ec2a-4a22b0762bd5",
        "colab": {
          "base_uri": "https://localhost:8080/",
          "height": 34
        }
      },
      "source": [
        "tree_model = tree.DecisionTreeClassifier(max_depth = best_depth)\n",
        "train_single_tree = tree_model.fit(xtrain, ytrain)\n",
        "ypred = train_single_tree.predict_proba(xtest)[::,1]\n",
        "\n",
        "# get AUC score\n",
        "metrics.roc_auc_score(ytest, ypred)"
      ],
      "execution_count": 67,
      "outputs": [
        {
          "output_type": "execute_result",
          "data": {
            "text/plain": [
              "0.6414322250639386"
            ]
          },
          "metadata": {
            "tags": []
          },
          "execution_count": 67
        }
      ]
    },
    {
      "cell_type": "markdown",
      "metadata": {
        "id": "ddCeuyKVjuZA"
      },
      "source": [
        "# 03-Ensemble Tree Models"
      ]
    },
    {
      "cell_type": "markdown",
      "metadata": {
        "id": "xM9NI8tLk0tk"
      },
      "source": [
        "We use the data for the above decision tree example to show different ensemble tree models. So the followings are all decision trees. You can build regression trees in very similar manners by using `DecisionTreeRegressor()`."
      ]
    },
    {
      "cell_type": "code",
      "metadata": {
        "id": "nMHIuftajbzE"
      },
      "source": [
        "# use the 10 survey questions as predictors\n",
        "x = dat.filter(regex = \"^Q\")\n",
        "\n",
        "# use gender as the response variable\n",
        "# convert it to be numerical with \"Female\" = 1\n",
        "y = pd.get_dummies(dat, columns = ['gender']).gender_Female \n",
        "\n",
        "# split the data into training and testing\n",
        "xtrain, xtest, ytrain, ytest = ms.train_test_split(x, y, test_size = 0.2, random_state = 1)"
      ],
      "execution_count": 85,
      "outputs": []
    },
    {
      "cell_type": "markdown",
      "metadata": {
        "id": "Pnz22BO2mcNu"
      },
      "source": [
        "## 03.1-Bagging\n",
        "\n",
        "We use `RandomizedSearchCV` from `sklearn` to optimize our hyperparamaters. For bagging, we focus on the following hyperparameters:\n",
        "1. `n_estimators`: The number of trees in the bagging model."
      ]
    },
    {
      "cell_type": "code",
      "metadata": {
        "id": "HrK3rl_bmgoY"
      },
      "source": [
        "n_estimators = [int(x) for x in np.linspace(start = 200, stop = 2000, num = 10)]\n",
        "\n",
        "# create random grid\n",
        "bag_grid = {\n",
        " 'n_estimators': n_estimators\n",
        " }\n",
        "\n",
        "bag = BaggingClassifier()\n",
        "\n",
        "# Random search of parameters\n",
        "bag_tune = RandomizedSearchCV(estimator = bag, \n",
        "                              param_distributions = bag_grid, \n",
        "                              cv = 10, verbose = 0, random_state = 1)\n",
        "\n",
        "train_bag = bag_tune.fit(xtrain, ytrain)"
      ],
      "execution_count": null,
      "outputs": []
    },
    {
      "cell_type": "code",
      "metadata": {
        "id": "k6z_aVoXkF9f",
        "outputId": "854d6be2-b5e1-4a02-a0db-e43fb084ecf7",
        "colab": {
          "base_uri": "https://localhost:8080/",
          "height": 34
        }
      },
      "source": [
        "# Best hyperparameter value\n",
        "train_bag.best_params_['n_estimators']"
      ],
      "execution_count": 50,
      "outputs": [
        {
          "output_type": "execute_result",
          "data": {
            "text/plain": [
              "600"
            ]
          },
          "metadata": {
            "tags": []
          },
          "execution_count": 50
        }
      ]
    },
    {
      "cell_type": "markdown",
      "metadata": {
        "id": "JK5K2cyii4sO"
      },
      "source": [
        "Use the tuned hyperparameter to train the model. "
      ]
    },
    {
      "cell_type": "code",
      "metadata": {
        "id": "8ybZIOonajI3",
        "outputId": "bec6c0c1-5dca-483c-963c-2d2f68fcaa82",
        "colab": {
          "base_uri": "https://localhost:8080/",
          "height": 34
        }
      },
      "source": [
        "bag = BaggingClassifier(n_estimators = train_bag.best_params_['n_estimators'])\n",
        "bag_fit = bag.fit(xtrain, ytrain)\n",
        "ypred = train_bag.predict_proba(xtest)[::,1]\n",
        "\n",
        "# check the auc\n",
        "metrics.roc_auc_score(ytest, ypred)"
      ],
      "execution_count": 66,
      "outputs": [
        {
          "output_type": "execute_result",
          "data": {
            "text/plain": [
              "0.6742199488491049"
            ]
          },
          "metadata": {
            "tags": []
          },
          "execution_count": 66
        }
      ]
    },
    {
      "cell_type": "markdown",
      "metadata": {
        "id": "vgBbQ8gQDNbc"
      },
      "source": [
        "## 03.2-Random Forest\n",
        "\n",
        "For random forest, we focus on the following hyperparameters:\n",
        "1. `n_estimators`: The number of trees in the forest\n",
        "1. `max_features`: The number of features to consider when looking for the best split"
      ]
    },
    {
      "cell_type": "code",
      "metadata": {
        "id": "Fmm1OdV9GoPY"
      },
      "source": [
        "n_estimators = [int(x) for x in np.linspace(start = 200, stop = 2000, num = 10)]\n",
        "max_features = [i for i in range(2,8)]\n",
        "\n",
        "# create random grid\n",
        "rf_grid = {\n",
        " 'n_estimators': n_estimators,\n",
        " 'max_features': max_features\n",
        " }\n",
        "\n",
        "rf = RandomForestClassifier()\n",
        "\n",
        "# Random search of parameters\n",
        "rf_tune = RandomizedSearchCV(estimator = rf, \n",
        "                              param_distributions = rf_grid, \n",
        "                              cv = 10, verbose = 0, random_state = 1)\n",
        "\n",
        "train_rf = rf_tune.fit(xtrain, ytrain)"
      ],
      "execution_count": 52,
      "outputs": []
    },
    {
      "cell_type": "code",
      "metadata": {
        "id": "C9bEr4zEsSvI",
        "outputId": "dde22a2c-6583-4f02-bfda-e404563c36e4",
        "colab": {
          "base_uri": "https://localhost:8080/",
          "height": 34
        }
      },
      "source": [
        "# Best hyperparameter value\n",
        "train_rf.best_params_"
      ],
      "execution_count": 54,
      "outputs": [
        {
          "output_type": "execute_result",
          "data": {
            "text/plain": [
              "{'max_features': 4, 'n_estimators': 1600}"
            ]
          },
          "metadata": {
            "tags": []
          },
          "execution_count": 54
        }
      ]
    },
    {
      "cell_type": "code",
      "metadata": {
        "id": "TAxvjlpwIOhW",
        "outputId": "698e4e33-67af-4989-c103-7c6ff9f3a90f",
        "colab": {
          "base_uri": "https://localhost:8080/",
          "height": 34
        }
      },
      "source": [
        "rf = RandomForestClassifier(n_estimators = train_rf.best_params_['n_estimators'], max_features = train_rf.best_params_['max_features'])\n",
        "rf_fit = rf.fit(xtrain, ytrain)\n",
        "ypred = rf_fit.predict_proba(xtest)[::,1]\n",
        "\n",
        "# check the auc\n",
        "metrics.roc_auc_score(ytest, ypred)"
      ],
      "execution_count": 65,
      "outputs": [
        {
          "output_type": "execute_result",
          "data": {
            "text/plain": [
              "0.6745268542199487"
            ]
          },
          "metadata": {
            "tags": []
          },
          "execution_count": 65
        }
      ]
    },
    {
      "cell_type": "markdown",
      "metadata": {
        "id": "Syb7WLcIIBrh"
      },
      "source": [
        "## 03.3-Gradient Boosting\n",
        "\n",
        "We focus on the following hyperparameters:\n",
        "1. `n_estimators`: The number of boosting stages to perform. \n",
        "1. `learning_rate`: learning rate shrinks the contribution of each tree. There is a trade-off between `learning_rate` and `n_estimators`.\n",
        "1. `min_samples_leaf`: The minimum number of samples required to be at a leaf node.\n",
        "1. `max_features`: The number of features to consider when looking for the best split"
      ]
    },
    {
      "cell_type": "code",
      "metadata": {
        "id": "I2Cl1q8Zw2JT"
      },
      "source": [
        "n_estimators = [int(x) for x in np.linspace(start = 200, stop = 2000, num = 10)]\n",
        "learning_rate = [0.01, 0.1]\n",
        "min_samples_leaf = [i for i in range(1,11)]\n",
        "max_features = [i for i in range(2,8)]\n",
        "\n",
        "# create random grid\n",
        "gbm_grid = {\n",
        " 'n_estimators': n_estimators,\n",
        " 'max_features': max_features,\n",
        " 'learning_rate': learning_rate,\n",
        " 'min_samples_leaf': min_samples_leaf\n",
        " }\n",
        "\n",
        "\n",
        "gbm = GradientBoostingClassifier()\n",
        "\n",
        "# Random search of parameters\n",
        "gbm_tune = RandomizedSearchCV(estimator = gbm, \n",
        "                              param_distributions = gbm_grid, \n",
        "                              cv = 10, verbose = 0, random_state = 3)\n",
        "\n",
        "train_gbm = gbm_tune.fit(xtrain, ytrain)"
      ],
      "execution_count": 58,
      "outputs": []
    },
    {
      "cell_type": "code",
      "metadata": {
        "id": "zwgJv7yGzj7s",
        "outputId": "dfe877ea-4c48-49dc-a41d-a332f3905dda",
        "colab": {
          "base_uri": "https://localhost:8080/",
          "height": 85
        }
      },
      "source": [
        "train_gbm.best_params_"
      ],
      "execution_count": 60,
      "outputs": [
        {
          "output_type": "execute_result",
          "data": {
            "text/plain": [
              "{'learning_rate': 0.01,\n",
              " 'max_features': 4,\n",
              " 'min_samples_leaf': 6,\n",
              " 'n_estimators': 1400}"
            ]
          },
          "metadata": {
            "tags": []
          },
          "execution_count": 60
        }
      ]
    },
    {
      "cell_type": "code",
      "metadata": {
        "id": "tguKOetKzqcC",
        "outputId": "285fa92e-decc-4e2a-f6e5-4a03e4d42e1d",
        "colab": {
          "base_uri": "https://localhost:8080/",
          "height": 34
        }
      },
      "source": [
        "gbm = GradientBoostingClassifier(n_estimators = train_gbm.best_params_['n_estimators'],\n",
        "                                max_features = train_gbm.best_params_['max_features'],\n",
        "                                min_samples_leaf = train_gbm.best_params_['min_samples_leaf'],\n",
        "                                learning_rate = train_gbm.best_params_['learning_rate'])\n",
        "gbm_fit = gbm.fit(xtrain, ytrain)\n",
        "ypred = gbm_fit.predict_proba(xtest)[::,1]\n",
        "\n",
        "# check the auc\n",
        "metrics.roc_auc_score(ytest, ypred)"
      ],
      "execution_count": 63,
      "outputs": [
        {
          "output_type": "execute_result",
          "data": {
            "text/plain": [
              "0.6786700767263427"
            ]
          },
          "metadata": {
            "tags": []
          },
          "execution_count": 63
        }
      ]
    },
    {
      "cell_type": "markdown",
      "metadata": {
        "id": "0LWo91RI4zXW"
      },
      "source": [
        "## 03.4-Compare classifiers"
      ]
    },
    {
      "cell_type": "code",
      "metadata": {
        "id": "CY66P3k5mupo"
      },
      "source": [
        "# List of trained classifier\n",
        "classifiers = [train_single_tree, bag_fit, rf_fit, gbm_fit]\n",
        "\n",
        "# Define a result table as a DataFrame\n",
        "result_table = pd.DataFrame(columns=['classifiers', 'fpr','tpr','auc'])\n",
        "\n",
        "\n",
        "for cls in classifiers:\n",
        "    yproba = cls.predict_proba(xtest)[::,1]\n",
        "    \n",
        "    fpr, tpr, _ = roc_curve(ytest,  yproba)\n",
        "    auc = metrics.roc_auc_score(ytest, yproba)\n",
        "    \n",
        "    result_table = result_table.append({'classifiers':cls.__class__.__name__,\n",
        "                                        'fpr':fpr, \n",
        "                                        'tpr':tpr, \n",
        "                                        'auc':auc}, ignore_index=True)\n",
        "\n",
        "# Set name of the classifiers as index labels\n",
        "result_table.set_index('classifiers', inplace=True)\n",
        "# create a list of model names\n",
        "model_names = ['Single Tree','Bagging', 'Random Forest', 'Gradient Boostiing']"
      ],
      "execution_count": 70,
      "outputs": []
    },
    {
      "cell_type": "markdown",
      "metadata": {
        "id": "L817p52B4811"
      },
      "source": [
        "Plot the figure"
      ]
    },
    {
      "cell_type": "code",
      "metadata": {
        "id": "JQRmKcUYnvMe",
        "outputId": "ee245a5e-6a34-4937-8fc5-61414b28f31d",
        "colab": {
          "base_uri": "https://localhost:8080/",
          "height": 520
        }
      },
      "source": [
        "fig = plt.figure(figsize=(10,8))\n",
        "\n",
        "for i in result_table.index:\n",
        "    plt.plot(result_table.loc[i]['fpr'], \n",
        "             result_table.loc[i]['tpr'], \n",
        "             label=\"{}, AUC={:.3f}\".format(i, result_table.loc[i]['auc']))\n",
        "    \n",
        "plt.plot([0,1], [0,1], color='orange', linestyle='--')\n",
        "\n",
        "plt.xticks(np.arange(0.0, 1.1, step=0.1))\n",
        "plt.xlabel(\"Flase Positive Rate\", fontsize=15)\n",
        "\n",
        "plt.yticks(np.arange(0.0, 1.1, step=0.1))\n",
        "plt.ylabel(\"True Positive Rate\", fontsize=15)\n",
        "\n",
        "plt.title('ROC Curve Analysis', fontweight='bold', fontsize=15)\n",
        "plt.legend(prop={'size':13}, loc='lower right')\n",
        "\n",
        "plt.show()"
      ],
      "execution_count": 72,
      "outputs": [
        {
          "output_type": "display_data",
          "data": {
            "image/png": "[encoded data removed]",
            "text/plain": [
              "<Figure size 720x576 with 1 Axes>"
            ]
          },
          "metadata": {
            "tags": [],
            "needs_background": "light"
          }
        }
      ]
    },
    {
      "cell_type": "code",
      "metadata": {
        "id": "Ri8drEfH5AZu"
      },
      "source": [
        ""
      ],
      "execution_count": null,
      "outputs": []
    }
  ]
}